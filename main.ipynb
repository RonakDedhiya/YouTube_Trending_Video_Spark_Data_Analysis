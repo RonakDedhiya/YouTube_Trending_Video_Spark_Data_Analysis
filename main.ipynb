{
  "cells": [
    {
      "cell_type": "code",
      "execution_count": 18,
      "metadata": {
        "colab": {
          "base_uri": "https://localhost:8080/",
          "height": 258
        },
        "id": "usPnk4UqlNEg",
        "outputId": "550864f0-1baf-4b3c-aa36-6e4d94841ad1"
      },
      "outputs": [
        {
          "output_type": "stream",
          "name": "stdout",
          "text": [
            "Drive already mounted at /content/drive; to attempt to forcibly remount, call drive.mount(\"/content/drive\", force_remount=True).\n"
          ]
        },
        {
          "output_type": "execute_result",
          "data": {
            "text/html": [
              "\n",
              "            <div>\n",
              "                <p><b>SparkSession - in-memory</b></p>\n",
              "                \n",
              "        <div>\n",
              "            <p><b>SparkContext</b></p>\n",
              "\n",
              "            <p><a href=\"http://9ab3fbf3647c:4050\">Spark UI</a></p>\n",
              "\n",
              "            <dl>\n",
              "              <dt>Version</dt>\n",
              "                <dd><code>v3.0.3</code></dd>\n",
              "              <dt>Master</dt>\n",
              "                <dd><code>local</code></dd>\n",
              "              <dt>AppName</dt>\n",
              "                <dd><code>Colab</code></dd>\n",
              "            </dl>\n",
              "        </div>\n",
              "        \n",
              "            </div>\n",
              "        "
            ],
            "text/plain": [
              "<pyspark.sql.session.SparkSession at 0x7fcaa71a6190>"
            ]
          },
          "metadata": {},
          "execution_count": 18
        },
        {
          "output_type": "stream",
          "name": "stdout",
          "text": [
            "time: 12.1 s (started: 2021-12-10 18:52:03 +00:00)\n"
          ]
        }
      ],
      "source": [
        "#######################################\n",
        "###!@0 START INIT ENVIRONMENT\n",
        "from google.colab import drive\n",
        "drive.mount('/content/drive')\n",
        "!apt-get install openjdk-8-jdk-headless -qq > /dev/null\n",
        "#!wget -q https://mirrors.estointernet.in/apache/spark/spark-3.0.3/spark-3.0.3-bin-hadoop2.7.tgz -P /content/drive/MyDrive # link wrong in blog\n",
        "!tar xf /content/drive/Shareddrives/DA231-2021-Aug-Public/spark-3.0.3-bin-hadoop2.7.tgz\n",
        "!pip install -q findspark\n",
        "import os\n",
        "os.environ[\"JAVA_HOME\"] = \"/usr/lib/jvm/java-8-openjdk-amd64\"\n",
        "os.environ[\"SPARK_HOME\"] = \"/content/spark-3.0.3-bin-hadoop2.7\"\n",
        "\n",
        "###!@0 END INIT ENVIRONMENT\n",
        "\n",
        "#######################################\n",
        "###!@1 START OF PYSPARK INIT\n",
        "# Provides findspark.init() to make pyspark importable as a regular library.\n",
        "# Resource : https://pypi.org/project/findspark/\n",
        "import findspark\n",
        "findspark.init()\n",
        "findspark.find()\n",
        "from pyspark.sql import SparkSession\n",
        "spark = SparkSession.builder\\\n",
        "         .master(\"local\")\\\n",
        "         .appName(\"Colab\")\\\n",
        "         .config('spark.ui.port', '4050')\\\n",
        "         .getOrCreate()\n",
        "spark\n",
        "# Spark is ready to go within Colab!\n",
        "###!@1 END OF PYSPARK INIT\n"
      ]
    },
    {
      "cell_type": "code",
      "execution_count": 19,
      "metadata": {
        "id": "24NrVumOkDtJ",
        "colab": {
          "base_uri": "https://localhost:8080/"
        },
        "outputId": "86cd724b-cb78-4ab7-f600-32533030bda3"
      },
      "outputs": [
        {
          "output_type": "stream",
          "name": "stdout",
          "text": [
            "Requirement already satisfied: ipython-autotime in /usr/local/lib/python3.7/dist-packages (0.3.1)\n",
            "Requirement already satisfied: ipython in /usr/local/lib/python3.7/dist-packages (from ipython-autotime) (5.5.0)\n",
            "Requirement already satisfied: setuptools>=18.5 in /usr/local/lib/python3.7/dist-packages (from ipython->ipython-autotime) (57.4.0)\n",
            "Requirement already satisfied: pickleshare in /usr/local/lib/python3.7/dist-packages (from ipython->ipython-autotime) (0.7.5)\n",
            "Requirement already satisfied: prompt-toolkit<2.0.0,>=1.0.4 in /usr/local/lib/python3.7/dist-packages (from ipython->ipython-autotime) (1.0.18)\n",
            "Requirement already satisfied: simplegeneric>0.8 in /usr/local/lib/python3.7/dist-packages (from ipython->ipython-autotime) (0.8.1)\n",
            "Requirement already satisfied: pexpect in /usr/local/lib/python3.7/dist-packages (from ipython->ipython-autotime) (4.8.0)\n",
            "Requirement already satisfied: pygments in /usr/local/lib/python3.7/dist-packages (from ipython->ipython-autotime) (2.6.1)\n",
            "Requirement already satisfied: decorator in /usr/local/lib/python3.7/dist-packages (from ipython->ipython-autotime) (4.4.2)\n",
            "Requirement already satisfied: traitlets>=4.2 in /usr/local/lib/python3.7/dist-packages (from ipython->ipython-autotime) (5.1.1)\n",
            "Requirement already satisfied: six>=1.9.0 in /usr/local/lib/python3.7/dist-packages (from prompt-toolkit<2.0.0,>=1.0.4->ipython->ipython-autotime) (1.15.0)\n",
            "Requirement already satisfied: wcwidth in /usr/local/lib/python3.7/dist-packages (from prompt-toolkit<2.0.0,>=1.0.4->ipython->ipython-autotime) (0.2.5)\n",
            "Requirement already satisfied: ptyprocess>=0.5 in /usr/local/lib/python3.7/dist-packages (from pexpect->ipython->ipython-autotime) (0.7.0)\n",
            "The autotime extension is already loaded. To reload it, use:\n",
            "  %reload_ext autotime\n",
            "USA VIDEO DATA SET\n",
            "+-----------+--------------------+-------------------+--------------------+-------------+----------+-------------------+--------------------+----------+------+--------+-------------+--------------------+-----------------+----------------+--------------------+\n",
            "|   video_id|               title|        publishedAt|           channelId| channelTitle|categoryId|      trending_date|                tags|view_count| likes|dislikes|comment_count|      thumbnail_link|comments_disabled|ratings_disabled|         description|\n",
            "+-----------+--------------------+-------------------+--------------------+-------------+----------+-------------------+--------------------+----------+------+--------+-------------+--------------------+-----------------+----------------+--------------------+\n",
            "|3C66w5Z0ixs|I ASKED HER TO BE...|2020-08-11 19:20:14|UCvtRTOMP2TqYqu51...|     Brawadis|        22|2020-08-12 00:00:00|brawadis|prank|ba...|   1514614|156908|    5855|        35313|https://i.ytimg.c...|            false|           false|SUBSCRIBE to BRAW...|\n",
            "|M9Pmf9AB4Mo|Apex Legends | St...|2020-08-11 17:00:10|UC0ZV6M2THA81QT9h...| Apex Legends|        20|2020-08-12 00:00:00|Apex Legends|Apex...|   2381688|146739|    2794|        16549|https://i.ytimg.c...|            false|           false|While running her...|\n",
            "|J78aPJ3VyNs|I left youtube fo...|2020-08-11 16:34:06|UCYzPXprvl5Y-Sf0g...|jacksepticeye|        24|2020-08-12 00:00:00|jacksepticeye|fun...|   2038853|353787|    2628|        40221|https://i.ytimg.c...|            false|           false|I left youtube fo...|\n",
            "|kXLn3HkpjaA|XXL 2020 Freshman...|2020-08-11 16:38:55|UCbg_UMjlHJg_19SZ...|          XXL|        10|2020-08-12 00:00:00|xxl freshman|xxl ...|    496771| 23251|    1856|         7647|https://i.ytimg.c...|            false|           false|Subscribe to XXL ...|\n",
            "|VIUo6yapDbc|Ultimate DIY Home...|2020-08-11 15:10:05|UCDVPcEbVLQgLZX0R...|     Mr. Kate|        26|2020-08-12 00:00:00|The LaBrant Famil...|   1123889| 45802|     964|         2196|https://i.ytimg.c...|            false|           false|Transforming The ...|\n",
            "+-----------+--------------------+-------------------+--------------------+-------------+----------+-------------------+--------------------+----------+------+--------+-------------+--------------------+-----------------+----------------+--------------------+\n",
            "only showing top 5 rows\n",
            "\n",
            "USA VIDEO DATA SET CATEGORY and ID\n",
            "+---+----------------+\n",
            "| id|        Category|\n",
            "+---+----------------+\n",
            "|  1|Film & Animation|\n",
            "|  2|Autos & Vehicles|\n",
            "| 10|           Music|\n",
            "| 15|  Pets & Animals|\n",
            "| 17|          Sports|\n",
            "| 18|    Short Movies|\n",
            "| 19| Travel & Events|\n",
            "| 20|          Gaming|\n",
            "| 21|   Videoblogging|\n",
            "| 22|  People & Blogs|\n",
            "+---+----------------+\n",
            "only showing top 10 rows\n",
            "\n",
            "USA VIDEO DATA SET\n",
            "+-----------+--------------------+-------------------+--------------------+-------------+----------+-------------------+--------------------+----------+------+--------+-------------+--------------------+-----------------+----------------+--------------------+\n",
            "|   video_id|               title|        publishedAt|           channelId| channelTitle|categoryId|      trending_date|                tags|view_count| likes|dislikes|comment_count|      thumbnail_link|comments_disabled|ratings_disabled|         description|\n",
            "+-----------+--------------------+-------------------+--------------------+-------------+----------+-------------------+--------------------+----------+------+--------+-------------+--------------------+-----------------+----------------+--------------------+\n",
            "|3C66w5Z0ixs|I ASKED HER TO BE...|2020-08-11 19:20:14|UCvtRTOMP2TqYqu51...|     Brawadis|        22|2020-08-12 00:00:00|brawadis|prank|ba...|   1514614|156908|    5855|        35313|https://i.ytimg.c...|            false|           false|SUBSCRIBE to BRAW...|\n",
            "|M9Pmf9AB4Mo|Apex Legends | St...|2020-08-11 17:00:10|UC0ZV6M2THA81QT9h...| Apex Legends|        20|2020-08-12 00:00:00|Apex Legends|Apex...|   2381688|146739|    2794|        16549|https://i.ytimg.c...|            false|           false|While running her...|\n",
            "|J78aPJ3VyNs|I left youtube fo...|2020-08-11 16:34:06|UCYzPXprvl5Y-Sf0g...|jacksepticeye|        24|2020-08-12 00:00:00|jacksepticeye|fun...|   2038853|353787|    2628|        40221|https://i.ytimg.c...|            false|           false|I left youtube fo...|\n",
            "|kXLn3HkpjaA|XXL 2020 Freshman...|2020-08-11 16:38:55|UCbg_UMjlHJg_19SZ...|          XXL|        10|2020-08-12 00:00:00|xxl freshman|xxl ...|    496771| 23251|    1856|         7647|https://i.ytimg.c...|            false|           false|Subscribe to XXL ...|\n",
            "|VIUo6yapDbc|Ultimate DIY Home...|2020-08-11 15:10:05|UCDVPcEbVLQgLZX0R...|     Mr. Kate|        26|2020-08-12 00:00:00|The LaBrant Famil...|   1123889| 45802|     964|         2196|https://i.ytimg.c...|            false|           false|Transforming The ...|\n",
            "+-----------+--------------------+-------------------+--------------------+-------------+----------+-------------------+--------------------+----------+------+--------+-------------+--------------------+-----------------+----------------+--------------------+\n",
            "only showing top 5 rows\n",
            "\n",
            "Great Britain VIDEO DATA SET\n",
            "+-----------+--------------------+-------------------+--------------------+-------------+----------+-------------------+--------------------+----------+------+--------+-------------+--------------------+-----------------+----------------+--------------------+\n",
            "|   video_id|               title|        publishedAt|           channelId| channelTitle|categoryId|      trending_date|                tags|view_count| likes|dislikes|comment_count|      thumbnail_link|comments_disabled|ratings_disabled|         description|\n",
            "+-----------+--------------------+-------------------+--------------------+-------------+----------+-------------------+--------------------+----------+------+--------+-------------+--------------------+-----------------+----------------+--------------------+\n",
            "|J78aPJ3VyNs|I left youtube fo...|2020-08-11 16:34:06|UCYzPXprvl5Y-Sf0g...|jacksepticeye|        24|2020-08-12 00:00:00|jacksepticeye|fun...|   2038853|353790|    2628|        40228|https://i.ytimg.c...|            false|           false|I left youtube fo...|\n",
            "|9nidKH8cM38|TAXI CAB SLAYER K...|2020-08-11 20:00:45|UCFMbX7frWZfuWdjA...|Eleanor Neale|        27|2020-08-12 00:00:00|eleanor|neale|ele...|    236830| 16423|     209|         1642|https://i.ytimg.c...|            false|           false|The first 1000 pe...|\n",
            "|M9Pmf9AB4Mo|Apex Legends | St...|2020-08-11 17:00:10|UC0ZV6M2THA81QT9h...| Apex Legends|        20|2020-08-12 00:00:00|Apex Legends|Apex...|   2381688|146739|    2794|        16549|https://i.ytimg.c...|            false|           false|While running her...|\n",
            "|kgUV1MaD_M8|Nines - Clout (Of...|2020-08-10 18:30:28|UCvDkzrj8ZPlBqRd6...|        Nines|        24|2020-08-12 00:00:00|Nines|Trapper of ...|    613785| 37567|     669|         2101|https://i.ytimg.c...|            false|           false|Nines - Clout (Of...|\n",
            "|49Z6Mv4_WCA|i don't know what...|2020-08-11 20:24:34|UCtinbF-Q-fVthA0q...| CaseyNeistat|        22|2020-08-12 00:00:00|              [None]|    940036| 87113|    1860|         7052|https://i.ytimg.c...|            false|           false|ssend love to my ...|\n",
            "+-----------+--------------------+-------------------+--------------------+-------------+----------+-------------------+--------------------+----------+------+--------+-------------+--------------------+-----------------+----------------+--------------------+\n",
            "only showing top 5 rows\n",
            "\n",
            "India VIDEO DATA SET\n",
            "+-----------+--------------------+-------------------+--------------------+--------------+----------+-------------------+--------------------+----------+------+--------+-------------+--------------------+-----------------+----------------+--------------------+\n",
            "|   video_id|               title|        publishedAt|           channelId|  channelTitle|categoryId|      trending_date|                tags|view_count| likes|dislikes|comment_count|      thumbnail_link|comments_disabled|ratings_disabled|         description|\n",
            "+-----------+--------------------+-------------------+--------------------+--------------+----------+-------------------+--------------------+----------+------+--------+-------------+--------------------+-----------------+----------------+--------------------+\n",
            "|Iot0eF6EoNA|Sadak 2 | Officia...|2020-08-12 04:31:41|UCGqvJPRcv7aVFun-...|  FoxStarHindi|        24|2020-08-12 00:00:00|sadak|sadak 2|mah...|   9885899|224925| 3979409|       350210|https://i.ytimg.c...|            false|           false|Three Streams. Th...|\n",
            "|x-KbnJ9fvJc|Kya Baat Aa : Kar...|2020-08-11 09:00:11|UCm9SZAl03Rev9sFw...|Rehaan Records|        10|2020-08-12 00:00:00|              [None]|  11308046|655450|   33242|       405146|https://i.ytimg.c...|            false|           false|Singer/Lyrics: Ka...|\n",
            "|KX06ksuS6Xo|Diljit Dosanjh: C...|2020-08-11 07:30:02|UCZRdNleCgW-BGUJf...|Diljit Dosanjh|        10|2020-08-12 00:00:00|clash diljit dosa...|   9140911|296533|    6179|        30058|https://i.ytimg.c...|            false|           false|CLASH official mu...|\n",
            "|UsMRgnTcchY|Dil Ko Maine Di K...|2020-08-10 05:30:49|UCq-Fj5jknLsUf-MW...|      T-Series|        10|2020-08-12 00:00:00|hindi songs|2020 ...|  23564512|743931|   84162|       136942|https://i.ytimg.c...|            false|           false|Gulshan Kumar and...|\n",
            "|WNSEXJJhKTU|Baarish (Official...|2020-08-11 05:30:13|UCye6Oz0mg46S362L...| VYRLOriginals|        10|2020-08-12 00:00:00|VYRL Original|Moh...|   6783649|268817|    8798|        22984|https://i.ytimg.c...|            false|           false|VYRL Originals br...|\n",
            "+-----------+--------------------+-------------------+--------------------+--------------+----------+-------------------+--------------------+----------+------+--------+-------------+--------------------+-----------------+----------------+--------------------+\n",
            "only showing top 5 rows\n",
            "\n",
            "USA VIDEO DATA SET CATEGORY and ID\n",
            "+---+----------------+\n",
            "| id|        Category|\n",
            "+---+----------------+\n",
            "|  1|Film & Animation|\n",
            "|  2|Autos & Vehicles|\n",
            "| 10|           Music|\n",
            "| 15|  Pets & Animals|\n",
            "| 17|          Sports|\n",
            "+---+----------------+\n",
            "only showing top 5 rows\n",
            "\n",
            "Great Britain VIDEO DATA SET CATEGORY and ID\n",
            "+---+----------------+\n",
            "| id|        Category|\n",
            "+---+----------------+\n",
            "|  1|Film & Animation|\n",
            "|  2|Autos & Vehicles|\n",
            "| 10|           Music|\n",
            "| 15|  Pets & Animals|\n",
            "| 17|          Sports|\n",
            "+---+----------------+\n",
            "only showing top 5 rows\n",
            "\n",
            "India VIDEO DATA SET CATEGORY and ID\n",
            "+---+----------------+\n",
            "| id|        Category|\n",
            "+---+----------------+\n",
            "|  1|Film & Animation|\n",
            "|  2|Autos & Vehicles|\n",
            "| 10|           Music|\n",
            "| 15|  Pets & Animals|\n",
            "| 17|          Sports|\n",
            "+---+----------------+\n",
            "only showing top 5 rows\n",
            "\n",
            "time: 10.5 s (started: 2021-12-10 18:52:16 +00:00)\n"
          ]
        }
      ],
      "source": [
        "#######################################\n",
        "###!@2 START OF DEFINING INPUT FILES\n",
        "#pfile = \"/content/drive/MyDrive/US_youtube_trending_data.csv\"\n",
        "pfile = \"/content/drive/MyDrive/youtube_trending_video_dataset/US_youtube_trending_data.csv\"\n",
        "jfile = \"/content/drive/MyDrive/youtube_trending_video_dataset/US_category_id.json\"\n",
        "\n",
        "#jfile = \"/content/drive/MyDrive/US_category_id.json\"\n",
        "###!@2 END OF DEFINING INPUT FILES\n",
        "\n",
        "#######################################\n",
        "###!@3 START OF LOADING DATA\n",
        "from pyspark.sql.types import *\n",
        "from pyspark.sql.functions import *\n",
        "from datetime import date\n",
        "import pyspark.sql.functions as F\n",
        "import pandas as pd\n",
        "import numpy as np\n",
        "import matplotlib.pyplot as plt\n",
        "import matplotlib\n",
        "import seaborn as sns\n",
        "from pyspark.ml.stat import Correlation\n",
        "from pyspark.ml.feature import VectorAssembler\n",
        "\n",
        "!pip install ipython-autotime\n",
        "%load_ext autotime\n",
        "##########################\n",
        "\n",
        "\n",
        "# load USA YT data from CSV\n",
        "print(\"USA VIDEO DATA SET\")\n",
        "usadf = spark.read.option(\"header\",True).option(\"inferSchema\",True).option(\"multiline\",\"true\").csv(pfile).where(col(\"video_id\").isNotNull())\n",
        "usadf.show(5)\n",
        "\n",
        "# Load US Json\n",
        "print(\"USA VIDEO DATA SET CATEGORY and ID\")\n",
        "ytvusjdf = spark.read.option(\"multiline\",\"true\").json(jfile).select(explode(\"items\").alias(\"itemsExplode\")).select(\"itemsExplode.*\").withColumn(\"Category\", col(\"snippet\").title).drop(\"etag\", \"kind\", \"snippet\")\n",
        "ytvusjdf.show(10)\n",
        "\n",
        "\n",
        "#cfile = \"/content/drive/MyDrive/YouTubeProjectSem1/US_youtube_trending_data.csv\"\n",
        "#jfile = \"/content/drive/MyDrive/YouTubeProjectSem1/US_category_id.json\"\n",
        "\n",
        "#c1file = \"/content/drive/MyDrive/YouTubeProjectSem1/GB_youtube_trending_data.csv\"\n",
        "#j1file = \"/content/drive/MyDrive/YouTubeProjectSem1/GB_category_id.json\"\n",
        "\n",
        "#c2file = \"/content/drive/MyDrive/YouTubeProjectSem1/IN_youtube_trending_data.csv\"\n",
        "#j2file = \"/content/drive/MyDrive/YouTubeProjectSem1/IN_category_id.json\"\n",
        "\n",
        "cfile = \"/content/drive/MyDrive/youtube_trending_video_dataset/US_youtube_trending_data.csv\"\n",
        "jfile = \"/content/drive/MyDrive/youtube_trending_video_dataset/US_category_id.json\"\n",
        "\n",
        "c1file = \"/content/drive/MyDrive/youtube_trending_video_dataset/GB_youtube_trending_data.csv\"\n",
        "j1file = \"/content/drive/MyDrive/youtube_trending_video_dataset/GB_category_id.json\"\n",
        "\n",
        "c2file = \"/content/drive/MyDrive/youtube_trending_video_dataset/IN_youtube_trending_data.csv\"\n",
        "j2file = \"/content/drive/MyDrive/youtube_trending_video_dataset/IN_category_id.json\"\n",
        "#######################################\n",
        "###!@3 START OF LOADING DATA\n",
        "##########################\n",
        "\n",
        "# load US data from CSV\n",
        "uscdf = usadf\n",
        "#uscdf = spark.read.option(\"header\",True).option(\"inferSchema\",True).option(\"multiline\",\"true\").csv(cfile).where(col(\"video_id\").isNotNull())\n",
        "gbcdf = spark.read.option(\"header\",True).option(\"inferSchema\",True).option(\"multiline\",\"true\").csv(c1file).where(col(\"video_id\").isNotNull())\n",
        "incdf = spark.read.option(\"header\",True).option(\"inferSchema\",True).option(\"multiline\",\"true\").csv(c2file).where(col(\"video_id\").isNotNull())\n",
        "print(\"USA VIDEO DATA SET\")\n",
        "uscdf.show(5)\n",
        "print(\"Great Britain VIDEO DATA SET\")\n",
        "gbcdf.show(5)\n",
        "print(\"India VIDEO DATA SET\")\n",
        "incdf.show(5)\n",
        "\n",
        "# # Load US Json\n",
        "usjdf = ytvusjdf\n",
        "#usjdf = spark.read.option(\"multiline\",\"true\").json(jfile).select(explode(\"items\").alias(\"itemsExplode\")).select(\"itemsExplode.*\").withColumn(\"Category\", col(\"snippet\").title).drop(\"etag\", \"kind\", \"snippet\")\n",
        "gbjdf = spark.read.option(\"multiline\",\"true\").json(j1file).select(explode(\"items\").alias(\"itemsExplode\")).select(\"itemsExplode.*\").withColumn(\"Category\", col(\"snippet\").title).drop(\"etag\", \"kind\", \"snippet\")\n",
        "injdf = spark.read.option(\"multiline\",\"true\").json(j2file).select(explode(\"items\").alias(\"itemsExplode\")).select(\"itemsExplode.*\").withColumn(\"Category\", col(\"snippet\").title).drop(\"etag\", \"kind\", \"snippet\")\n",
        "print(\"USA VIDEO DATA SET CATEGORY and ID\")\n",
        "usjdf.show(5)\n",
        "print(\"Great Britain VIDEO DATA SET CATEGORY and ID\")\n",
        "gbjdf.show(5)\n",
        "print(\"India VIDEO DATA SET CATEGORY and ID\")\n",
        "injdf.show(5)"
      ]
    },
    {
      "cell_type": "code",
      "execution_count": 20,
      "metadata": {
        "colab": {
          "base_uri": "https://localhost:8080/"
        },
        "id": "YzWdkrOoph8j",
        "outputId": "f7fbbc02-82ed-4a1e-c3d1-ab75219912de"
      },
      "outputs": [
        {
          "output_type": "stream",
          "name": "stdout",
          "text": [
            "+-----------+--------------------+-------------------+--------------------+--------------------+----------+-------------+----------+--------+--------+-------------+-----------------+----------------+\n",
            "|   video_id|               title|        publishedAt|           channelId|        channelTitle|categoryId|trending_date|view_count|   likes|dislikes|comment_count|comments_disabled|ratings_disabled|\n",
            "+-----------+--------------------+-------------------+--------------------+--------------------+----------+-------------+----------+--------+--------+-------------+-----------------+----------------+\n",
            "|5WjcDji3xYc|Honest Trailers |...|2020-08-11 17:03:59|UCOpcACMWblDls9Z6...|      Screen Junkies|         1|   2020-08-12|  833369.0| 50181.0|  1120.0|       4634.0|            false|           false|\n",
            "|84lMEGPUmi4|Is it time for Me...|2020-08-14 22:07:44|UC4i_9WvfPRTuRWEa...|            BT Sport|        17|   2020-08-15| 1150891.0| 27498.0|   455.0|       4261.0|            false|           false|\n",
            "|fqT81qdPpOw|P2 - Speedway (Of...|2020-08-14 16:00:11|UCn8wUiFIZsxbnvsi...|         P2istheName|        24|   2020-08-15|  899123.0|130706.0|  2222.0|      27659.0|            false|           false|\n",
            "|sa5rGfFWhN8|OMG! 2021 Ram 150...|2020-08-17 16:00:10|UCO-85LYfB61OP4SR...| The Fast Lane Truck|         2|   2020-08-18|  246430.0|  5697.0|   227.0|       1705.0|            false|           false|\n",
            "|5UmW4uDEIcs|Dyeing a wig for ...|2020-08-25 20:47:53|UCoziFm3M4sHDq1kk...|           Glam&Gore|        24|   2020-08-26|  469105.0| 77896.0|   198.0|       3307.0|            false|           false|\n",
            "|5UUdn_4Esck|PlayStation Plus ...|2020-08-26 15:30:00|UC6yzV_xgKn8r77Fk...|  PlayStation Access|        20|   2020-08-28|  387424.0|  8282.0|  2052.0|       1767.0|            false|           false|\n",
            "|3JxF7DuJzjc|ROCKETS at THUNDE...|2020-09-01 03:58:10|UCWJ2lWNubArHWmf3...|                 NBA|        17|   2020-09-01| 1174561.0| 10178.0|   478.0|       2768.0|            false|           false|\n",
            "|MORpybHP4po|Black Clover - Op...|2020-09-01 10:35:22|UCf2L21tpe1P-Y4Qj...|      Crunchyroll FR|        24|   2020-09-02|  362108.0| 27136.0|   442.0|       4102.0|            false|           false|\n",
            "|zq0iCh-Eink|Jelly Roll - Hous...|2020-09-10 17:00:10|UCtyzzW6rIQiGP7gf...|          Jelly Roll|        10|   2020-09-11|  204211.0| 20493.0|   169.0|       1694.0|            false|           false|\n",
            "|--SvHNpSvpk|YoungBoy Never Br...|2020-09-11 15:00:00|UClW4jraMKz6Qj69l...|YoungBoy Never Br...|        10|   2020-09-12| 1736660.0|127830.0|  2242.0|      11037.0|            false|           false|\n",
            "+-----------+--------------------+-------------------+--------------------+--------------------+----------+-------------+----------+--------+--------+-------------+-----------------+----------------+\n",
            "only showing top 10 rows\n",
            "\n",
            "root\n",
            " |-- video_id: string (nullable = true)\n",
            " |-- title: string (nullable = true)\n",
            " |-- publishedAt: timestamp (nullable = true)\n",
            " |-- channelId: string (nullable = true)\n",
            " |-- channelTitle: string (nullable = true)\n",
            " |-- categoryId: integer (nullable = true)\n",
            " |-- trending_date: date (nullable = true)\n",
            " |-- view_count: double (nullable = true)\n",
            " |-- likes: double (nullable = true)\n",
            " |-- dislikes: double (nullable = true)\n",
            " |-- comment_count: double (nullable = true)\n",
            " |-- comments_disabled: boolean (nullable = true)\n",
            " |-- ratings_disabled: boolean (nullable = true)\n",
            "\n",
            "time: 8.91 s (started: 2021-12-10 18:52:26 +00:00)\n"
          ]
        }
      ],
      "source": [
        "# 1. EDA of trending video metrics:\n",
        "# a) : How many number of views/comments/likes videos had when they first became trending? Visualization through histograms and plots.\n",
        "# Note: If ratings_disabled is True than no Likes and Dislikes values\n",
        "\n",
        "cleandf_1a = usadf.withColumn(\"view_count\", col(\"view_count\").cast(\"double\")).withColumn(\"likes\", col(\"likes\").cast(\"double\")).\\\n",
        "            withColumn(\"trending_date\", col(\"trending_date\").cast(\"date\")).withColumn(\"comment_count\", col(\"comment_count\").cast(\"double\"))\\\n",
        "            .withColumn(\"dislikes\", col(\"dislikes\").cast(\"double\"))\\\n",
        "            .drop(\"thumbnail_link\", \"description\", \"tags\") #,\"comments_disabled\",\"ratings_disabled\")\n",
        "\n",
        "firsttrendingdf_1a = cleandf_1a.select(\"video_id\", expr(\"date(trending_date)\")).\\\n",
        "             groupBy(\"video_id\").agg(F.min(\"trending_date\")).withColumnRenamed(\"min(trending_date)\",\"tdate\")\\\n",
        "             .withColumnRenamed(\"video_id\",\"vid\")\n",
        "\n",
        "finaldf_1a = cleandf_1a.join(firsttrendingdf_1a, ((cleandf_1a.trending_date == firsttrendingdf_1a.tdate) & \\\n",
        "                            (cleandf_1a.video_id == firsttrendingdf_1a.vid))).drop(\"vid\", \"tdate\")\n",
        "finaldf_1a.show(10)\n",
        "finaldf_1a.printSchema()"
      ]
    },
    {
      "cell_type": "code",
      "execution_count": 21,
      "metadata": {
        "id": "kKU0EYRTeKzb",
        "colab": {
          "base_uri": "https://localhost:8080/"
        },
        "outputId": "d57b10a9-0280-4090-ddbc-d0ff88be12e5"
      },
      "outputs": [
        {
          "output_type": "stream",
          "name": "stdout",
          "text": [
            "Avg. number of Likes for trending for first time =  97771.64861310378\n",
            "+-----------------+\n",
            "|       avg(likes)|\n",
            "+-----------------+\n",
            "|97771.64861310378|\n",
            "+-----------------+\n",
            "\n",
            "Avg. number of Views for trending for first time =  1358940.5845289335\n",
            "+------------------+\n",
            "|   avg(view_count)|\n",
            "+------------------+\n",
            "|1358940.5845289335|\n",
            "+------------------+\n",
            "\n",
            "Avg. number of Comments for trending for first time =  9470.932329029172\n",
            "+------------------+\n",
            "|avg(comment_count)|\n",
            "+------------------+\n",
            "| 9470.932329029172|\n",
            "+------------------+\n",
            "\n",
            "time: 55 s (started: 2021-12-10 18:52:35 +00:00)\n"
          ]
        }
      ],
      "source": [
        "## Avg. number of Likes for trending for first time 97666 (~1 Lakh) \n",
        "avglikesfortrendingdf_1a = finaldf_1a.agg({\"likes\": \"avg\"})\n",
        "print(\"Avg. number of Likes for trending for first time = \", avglikesfortrendingdf_1a.collect()[0][0])\n",
        "avglikesfortrendingdf_1a.show()\n",
        "\n",
        "## Avg. number of Views for trending for first time 1344952 (~1.34 Million) \n",
        "avgviewsfortrendingdf_1a = finaldf_1a.agg({\"view_count\": \"avg\"})\n",
        "print(\"Avg. number of Views for trending for first time = \", avgviewsfortrendingdf_1a.collect()[0][0])\n",
        "avgviewsfortrendingdf_1a.show()\n",
        "\n",
        "## Avg. number of Comments for trending for first time 9581 (~10 K) \n",
        "avgcommentfortrendingdf_1a = finaldf_1a.agg({\"comment_count\": \"avg\"})\n",
        "print(\"Avg. number of Comments for trending for first time = \", avgcommentfortrendingdf_1a.collect()[0][0])\n",
        "avgcommentfortrendingdf_1a.show()"
      ]
    },
    {
      "cell_type": "code",
      "source": [
        "# MAX LIKES when first became trending\n",
        "## \"BTS (방탄소년단) 'Butter' Official MV\" hosted by \"HYBE LABELS\" has highest number of Likes (7110071) and Comments(3.4M) when they first became trending. [Date: 2021-05-21  Views: 67.1M]\n",
        "maxlikesdf_1a = finaldf_1a.orderBy(\"likes\", ascending=False)\n",
        "print(\"====== \"+str(maxlikesdf_1a.collect()[0][1]) + \" has HIGHEST number of LIKES : \" + str(maxlikesdf_1a.collect()[0][8])+\" ======\")\n",
        "maxlikesdf_1a.show(1, truncate=False)\n",
        "\n",
        "# MAX Comments when first became trending\n",
        "maxcommentsdf_1a = finaldf_1a.orderBy(\"comment_count\", ascending=False)\n",
        "print(\"====== \"+ str(maxcommentsdf_1a.collect()[0][1]) + \" has got HIGHEST number of COMMENTS : \" + str(maxcommentsdf_1a.collect()[0][10])+\" ======\") \n",
        "maxcommentsdf_1a.show(1, truncate=False)\n",
        "\n",
        "# MAX Views when first became trending\n",
        "## \"LISA - 'LALISA' M/V \" by BLACKPINK has highets number of views (85.9 Million) when they first became trending. [Date: 2021-09-11  Likes: 5921316, Comments: 1.95M]\n",
        "maxviewsdf_1a = finaldf_1a.orderBy(\"view_count\", ascending=False)\n",
        "print(\"====== \"+ str(maxviewsdf_1a.collect()[0][1]) + \" has HIGHEST number of VIEWS : \" + str(maxviewsdf_1a.collect()[0][7])+ \" ======\")\n",
        "maxviewsdf_1a.show(1, truncate=False)\n",
        "\n",
        "# MAX Dislikes when first became trending\n",
        "maxdislikesdf_1a = finaldf_1a.orderBy(\"dislikes\", ascending=False)\n",
        "## \"BLACKPINK - 'Ice Cream (with Selena Gomez)' M/V\" has highest dislikes (405329) when first became trending.\n",
        "print(\"====== \"+ str(maxdislikesdf_1a.collect()[0][1]) + \" has MAXIMUM Dislikes : \" + str(maxdislikesdf_1a.collect()[0][9])+ \" ======\")\n",
        "maxdislikesdf_1a.show(1, truncate=False)"
      ],
      "metadata": {
        "colab": {
          "base_uri": "https://localhost:8080/"
        },
        "id": "5Q2i-9hZ3F7J",
        "outputId": "f5af6ec9-9e8d-4f13-c435-1540271870d1"
      },
      "execution_count": 22,
      "outputs": [
        {
          "output_type": "stream",
          "name": "stdout",
          "text": [
            "====== BTS (방탄소년단) 'Butter' Official MV has HIGHEST number of LIKES : 7110071.0 ======\n",
            "+-----------+-------------------------------------+-------------------+------------------------+------------+----------+-------------+-----------+---------+--------+-------------+-----------------+----------------+\n",
            "|video_id   |title                                |publishedAt        |channelId               |channelTitle|categoryId|trending_date|view_count |likes    |dislikes|comment_count|comments_disabled|ratings_disabled|\n",
            "+-----------+-------------------------------------+-------------------+------------------------+------------+----------+-------------+-----------+---------+--------+-------------+-----------------+----------------+\n",
            "|WMweEpGlu_U|BTS (방탄소년단) 'Butter' Official MV|2021-05-21 03:46:13|UC3IZKseVpdzPSBaWxBxundA|HYBE LABELS |10        |2021-05-21   |6.7111752E7|7110071.0|8998.0  |3400291.0    |false            |false           |\n",
            "+-----------+-------------------------------------+-------------------+------------------------+------------+----------+-------------+-----------+---------+--------+-------------+-----------------+----------------+\n",
            "only showing top 1 row\n",
            "\n",
            "====== BTS (방탄소년단) 'Butter' Official MV has got HIGHEST number of COMMENTS : 3400291.0 ======\n",
            "+-----------+-------------------------------------+-------------------+------------------------+------------+----------+-------------+-----------+---------+--------+-------------+-----------------+----------------+\n",
            "|video_id   |title                                |publishedAt        |channelId               |channelTitle|categoryId|trending_date|view_count |likes    |dislikes|comment_count|comments_disabled|ratings_disabled|\n",
            "+-----------+-------------------------------------+-------------------+------------------------+------------+----------+-------------+-----------+---------+--------+-------------+-----------------+----------------+\n",
            "|WMweEpGlu_U|BTS (방탄소년단) 'Butter' Official MV|2021-05-21 03:46:13|UC3IZKseVpdzPSBaWxBxundA|HYBE LABELS |10        |2021-05-21   |6.7111752E7|7110071.0|8998.0  |3400291.0    |false            |false           |\n",
            "+-----------+-------------------------------------+-------------------+------------------------+------------+----------+-------------+-----------+---------+--------+-------------+-----------------+----------------+\n",
            "only showing top 1 row\n",
            "\n",
            "====== LISA - 'LALISA' M/V has HIGHEST number of VIEWS : 85890366.0 ======\n",
            "+-----------+-------------------+-------------------+------------------------+------------+----------+-------------+-----------+---------+--------+-------------+-----------------+----------------+\n",
            "|video_id   |title              |publishedAt        |channelId               |channelTitle|categoryId|trending_date|view_count |likes    |dislikes|comment_count|comments_disabled|ratings_disabled|\n",
            "+-----------+-------------------+-------------------+------------------------+------------+----------+-------------+-----------+---------+--------+-------------+-----------------+----------------+\n",
            "|awkkyBH2zEo|LISA - 'LALISA' M/V|2021-09-10 04:00:13|UCOmHUn--16B90oW2L6FRR3A|BLACKPINK   |10        |2021-09-11   |8.5890366E7|5921316.0|38624.0 |1958529.0    |false            |false           |\n",
            "+-----------+-------------------+-------------------+------------------------+------------+----------+-------------+-----------+---------+--------+-------------+-----------------+----------------+\n",
            "only showing top 1 row\n",
            "\n",
            "====== BLACKPINK - 'Ice Cream (with Selena Gomez)' M/V has MAXIMUM Dislikes : 405329.0 ======\n",
            "+-----------+-----------------------------------------------+-------------------+------------------------+------------+----------+-------------+-----------+---------+--------+-------------+-----------------+----------------+\n",
            "|video_id   |title                                          |publishedAt        |channelId               |channelTitle|categoryId|trending_date|view_count |likes    |dislikes|comment_count|comments_disabled|ratings_disabled|\n",
            "+-----------+-----------------------------------------------+-------------------+------------------------+------------+----------+-------------+-----------+---------+--------+-------------+-----------------+----------------+\n",
            "|vRXZj0DzXIA|BLACKPINK - 'Ice Cream (with Selena Gomez)' M/V|2020-08-28 04:00:11|UCOmHUn--16B90oW2L6FRR3A|BLACKPINK   |10        |2020-08-28   |5.1234434E7|5912778.0|405329.0|1847794.0    |false            |false           |\n",
            "+-----------+-----------------------------------------------+-------------------+------------------------+------------+----------+-------------+-----------+---------+--------+-------------+-----------------+----------------+\n",
            "only showing top 1 row\n",
            "\n",
            "time: 1min 42s (started: 2021-12-10 18:53:30 +00:00)\n"
          ]
        }
      ]
    },
    {
      "cell_type": "code",
      "source": [
        "## MINIMUM :\n",
        "## \"Leading the Charge | Circle K\" has only 17 likes , 6 dislikes and 10 comments when it became first trending.\n",
        "\n",
        "mindlikesdf_1a = finaldf_1a.where(col(\"ratings_disabled\") == \"false\").orderBy(\"likes\", ascending=True)\n",
        "print(\"====== \"+str(mindlikesdf_1a.collect()[0][1]) + \" has MINIMUM number of LIKES : \" + str(mindlikesdf_1a.collect()[0][8])+\" ======\")\n",
        "mindlikesdf_1a.show(1, truncate=False)\n",
        "\n",
        "mindislikesdf_1a = finaldf_1a.where(col(\"ratings_disabled\") == \"false\").orderBy(\"dislikes\", ascending=True)\n",
        "print(\"====== \"+str(mindislikesdf_1a.collect()[0][1]) + \" has MINIMUM number of DISLIKES : \" + str(mindislikesdf_1a.collect()[0][9])+\" ======\")\n",
        "mindislikesdf_1a.show(1, truncate=False)\n",
        "\n",
        "mincommentsdf_1a = finaldf_1a.where(col(\"comments_disabled\") == \"false\").select(\"video_id\",\"title\",\"channelTitle\",\"comment_count\",\"comments_disabled\").orderBy(\"comment_count\", ascending=True)\n",
        "## 43 Videos have 0 comments when they first became trending.\n",
        "mincommcount = mincommentsdf_1a.where(col(\"comment_count\") == \"0.0\").count()\n",
        "#print(mincommcount)\n",
        "print(\"====== \"+str(mincommcount) + \" Videos have 0 comments when they first became trending. ======\")\n",
        "mincommentsdf_1a.show(4, truncate=False)\n",
        "\n",
        "minviewsdf_1a = finaldf_1a.select(\"video_id\",\"title\",\"channelTitle\",\"view_count\").orderBy(\"view_count\", ascending=True)\n",
        "## 11 Video have 0 views when they first became trending.\n",
        "minviewscount = minviewsdf_1a.where(col(\"view_count\") == \"0.0\").count()\n",
        "print(\"====== \"+str(minviewscount) + \" Videos have 0 views when they first became trending. ======\")\n",
        "minviewsdf_1a.show(4, truncate=False)"
      ],
      "metadata": {
        "colab": {
          "base_uri": "https://localhost:8080/"
        },
        "id": "11HoAnjC3QNY",
        "outputId": "2e32f47f-5b84-41ed-e477-461f118ad8dd"
      },
      "execution_count": 23,
      "outputs": [
        {
          "output_type": "stream",
          "name": "stdout",
          "text": [
            "====== Leading the Charge | Circle K has MINIMUM number of LIKES : 17.0 ======\n",
            "+-----------+-----------------------------+-------------------+------------------------+------------+----------+-------------+----------+-----+--------+-------------+-----------------+----------------+\n",
            "|video_id   |title                        |publishedAt        |channelId               |channelTitle|categoryId|trending_date|view_count|likes|dislikes|comment_count|comments_disabled|ratings_disabled|\n",
            "+-----------+-----------------------------+-------------------+------------------------+------------+----------+-------------+----------+-----+--------+-------------+-----------------+----------------+\n",
            "|cfP1eeNPT_E|Leading the Charge | Circle K|2021-02-07 06:37:52|UC7kPuM7FmDnHjJHvJIPJP_Q|Circle K    |2         |2021-02-09   |1531323.0 |17.0 |6.0     |10.0         |false            |false           |\n",
            "+-----------+-----------------------------+-------------------+------------------------+------------+----------+-------------+----------+-----+--------+-------------+-----------------+----------------+\n",
            "only showing top 1 row\n",
            "\n",
            "====== Leading the Charge | Circle K has MINIMUM number of DISLIKES : 6.0 ======\n",
            "+-----------+-----------------------------+-------------------+------------------------+------------+----------+-------------+----------+-----+--------+-------------+-----------------+----------------+\n",
            "|video_id   |title                        |publishedAt        |channelId               |channelTitle|categoryId|trending_date|view_count|likes|dislikes|comment_count|comments_disabled|ratings_disabled|\n",
            "+-----------+-----------------------------+-------------------+------------------------+------------+----------+-------------+----------+-----+--------+-------------+-----------------+----------------+\n",
            "|cfP1eeNPT_E|Leading the Charge | Circle K|2021-02-07 06:37:52|UC7kPuM7FmDnHjJHvJIPJP_Q|Circle K    |2         |2021-02-09   |1531323.0 |17.0 |6.0     |10.0         |false            |false           |\n",
            "+-----------+-----------------------------+-------------------+------------------------+------------+----------+-------------+----------+-----+--------+-------------+-----------------+----------------+\n",
            "only showing top 1 row\n",
            "\n",
            "====== 43 Videos have 0 comments when they first became trending. ======\n",
            "+-----------+---------------------------------------------------------+------------------------------------+-------------+-----------------+\n",
            "|video_id   |title                                                    |channelTitle                        |comment_count|comments_disabled|\n",
            "+-----------+---------------------------------------------------------+------------------------------------+-------------+-----------------+\n",
            "|ehQal7cSIpE|Live 2020 Election Results                               |PBS NewsHour                        |0.0          |false            |\n",
            "|rbtybA7xT2M|Pokémon: Twilight Wings—The Gathering of Stars           |The Official Pokémon YouTube channel|0.0          |false            |\n",
            "|7AP86CYeR30|HOTEL TRANSYLVANIA: TRANSFORMANIA - Official Trailer (HD)|Sony Pictures Entertainment         |0.0          |false            |\n",
            "|--smQkLRmrY|Machine Gun Kelly - Downfalls High (Teaser Trailer)      |Machine Gun Kelly                   |0.0          |false            |\n",
            "+-----------+---------------------------------------------------------+------------------------------------+-------------+-----------------+\n",
            "only showing top 4 rows\n",
            "\n",
            "====== 11 Videos have 0 views when they first became trending. ======\n",
            "+-----------+------------------------------------------------------------+-----------------+----------+\n",
            "|video_id   |title                                                       |channelTitle     |view_count|\n",
            "+-----------+------------------------------------------------------------+-----------------+----------+\n",
            "|BxOEj8ZeX2g|Tim Bergling's 32nd Birthday                                |GoogleDoodles    |0.0       |\n",
            "|mCY4b6GGkb4|The Funeral of The Duke of Edinburgh                        |The Royal Family |0.0       |\n",
            "|r7nYQXsxJdU|HBCU Homecoming 2020: Meet Me On The Yard                   |YouTube Originals|0.0       |\n",
            "|HcSwBJY7Xew|Watch The Weeknd and create short videos on the YouTube app.|YouTube          |0.0       |\n",
            "+-----------+------------------------------------------------------------+-----------------+----------+\n",
            "only showing top 4 rows\n",
            "\n",
            "time: 1min 22s (started: 2021-12-10 18:55:13 +00:00)\n"
          ]
        }
      ]
    },
    {
      "cell_type": "code",
      "source": [
        "VDFHIST1_1A = maxlikesdf_1a.select(\"likes\").orderBy(\"likes\", ascending=False)\n",
        "VDFHIST1_1AOUT = [data[0] for data in VDFHIST1_1A.select('likes').collect()]"
      ],
      "metadata": {
        "colab": {
          "base_uri": "https://localhost:8080/"
        },
        "id": "M4DNKV_8-XL6",
        "outputId": "3513117b-f132-471d-f8bd-622dad36daaa"
      },
      "execution_count": 24,
      "outputs": [
        {
          "output_type": "stream",
          "name": "stdout",
          "text": [
            "time: 14.2 s (started: 2021-12-10 18:56:36 +00:00)\n"
          ]
        }
      ]
    },
    {
      "cell_type": "code",
      "execution_count": 25,
      "metadata": {
        "id": "Iuy9S5OwzfR5",
        "colab": {
          "base_uri": "https://localhost:8080/",
          "height": 650
        },
        "outputId": "6450abfc-288f-4a8b-daba-eb8645799ae1"
      },
      "outputs": [
        {
          "output_type": "display_data",
          "data": {
            "image/png": "[encoded data removed]",
            "text/plain": [
              "<Figure size 1080x720 with 1 Axes>"
            ]
          },
          "metadata": {
            "needs_background": "light"
          }
        },
        {
          "output_type": "stream",
          "name": "stdout",
          "text": [
            "time: 805 ms (started: 2021-12-10 18:56:50 +00:00)\n"
          ]
        }
      ],
      "source": [
        "# Histogram for X: Number of likes (Vs) Y: number of Videos per bin/bucket.\n",
        "\n",
        "SMALL_SIZE = 10\n",
        "MEDIUM_SIZE = 14\n",
        "BIGGER_SIZE = 16\n",
        "\n",
        "plt.rc('font', size=BIGGER_SIZE)          # controls default text sizes\n",
        "plt.rc('axes', titlesize=BIGGER_SIZE)     # fontsize of the axes title\n",
        "plt.rc('axes', labelsize=BIGGER_SIZE)    # fontsize of the x and y labels\n",
        "plt.rc('xtick', labelsize=MEDIUM_SIZE)    # fontsize of the tick labels\n",
        "plt.rc('ytick', labelsize=MEDIUM_SIZE)    # fontsize of the tick labels\n",
        "plt.rc('legend', fontsize=MEDIUM_SIZE)    # legend fontsize\n",
        "plt.rc('figure', titlesize=BIGGER_SIZE)  # fontsize of the figure title\n",
        "\n",
        "fig, ax = plt.subplots(figsize=(15,10))\n",
        "ax.hist(VDFHIST1_1AOUT)\n",
        "ax.set_title(\"Likes (Vs) Number of videos\")\n",
        "ax.set_xlabel('Likes')\n",
        "ax.set_ylabel('Number of videos')\n",
        "plt.yscale('log')\n",
        "plt.show()\n"
      ]
    },
    {
      "cell_type": "code",
      "source": [
        "# Histogram for X: Number of Views (Vs) Y: number of videos per bin/bucket.\n",
        "VDFHIST1VIEW_1A = maxviewsdf_1a.select(\"view_count\").orderBy(\"view_count\", ascending=False)\n",
        "VDFHIST1VIEW_1AOUT = [data[0] for data in VDFHIST1VIEW_1A.select('view_count').collect()]\n",
        "\n",
        "fig, ax = plt.subplots(figsize=(15,10))\n",
        "ax.hist(VDFHIST1VIEW_1AOUT)\n",
        "ax.set_title(\"Views (Vs) Number of videos\")\n",
        "ax.set_xlabel('Views')\n",
        "ax.set_ylabel('Number of videos')\n",
        "plt.yscale('log')\n",
        "plt.show()"
      ],
      "metadata": {
        "colab": {
          "base_uri": "https://localhost:8080/",
          "height": 650
        },
        "id": "cuaOIVsvJmmh",
        "outputId": "7960cb8f-c7b8-42af-86ee-71e68f217026"
      },
      "execution_count": 26,
      "outputs": [
        {
          "output_type": "display_data",
          "data": {
            "image/png": "[encoded data removed]",
            "text/plain": [
              "<Figure size 1080x720 with 1 Axes>"
            ]
          },
          "metadata": {
            "needs_background": "light"
          }
        },
        {
          "output_type": "stream",
          "name": "stdout",
          "text": [
            "time: 14.9 s (started: 2021-12-10 18:56:51 +00:00)\n"
          ]
        }
      ]
    },
    {
      "cell_type": "code",
      "source": [
        "# Histogram for X: Number of Comments (Vs) Y: number of videos per bin/bucket.\n",
        "VDFHIST1COMM_1A = maxcommentsdf_1a.select(\"comment_count\").orderBy(\"comment_count\", ascending=False)\n",
        "VDFHIST1COMM_1AOUT = [data[0] for data in VDFHIST1COMM_1A.select('comment_count').collect()]\n",
        "\n",
        "fig, ax = plt.subplots(figsize=(15,10))\n",
        "ax.hist(VDFHIST1COMM_1AOUT)\n",
        "ax.set_title(\"Comments (Vs) Number of videos\")\n",
        "ax.set_xlabel('Comments')\n",
        "ax.set_ylabel('Number of videos')\n",
        "plt.yscale('log')\n",
        "plt.show()"
      ],
      "metadata": {
        "colab": {
          "base_uri": "https://localhost:8080/",
          "height": 650
        },
        "id": "w5Cn0Cf7KMtA",
        "outputId": "f662847e-a11a-4fdb-ed01-afe9966d6d83"
      },
      "execution_count": 27,
      "outputs": [
        {
          "output_type": "display_data",
          "data": {
            "image/png": "[encoded data removed]",
            "text/plain": [
              "<Figure size 1080x720 with 1 Axes>"
            ]
          },
          "metadata": {
            "needs_background": "light"
          }
        },
        {
          "output_type": "stream",
          "name": "stdout",
          "text": [
            "time: 14.6 s (started: 2021-12-10 18:57:06 +00:00)\n"
          ]
        }
      ]
    },
    {
      "cell_type": "code",
      "execution_count": 28,
      "metadata": {
        "colab": {
          "base_uri": "https://localhost:8080/"
        },
        "id": "9IEUbt3FmBiR",
        "outputId": "146ba9bc-b701-43d6-f5e6-0d78a7736d2d"
      },
      "outputs": [
        {
          "output_type": "stream",
          "name": "stdout",
          "text": [
            "====== Maximum it took 27 days for a video to trend from its publish date. ======\n",
            "+-----------+-----------------------------------------------------------+-------------------+------------+----------+-------------+-----------+-------+--------+-------------+-------------+----------------+\n",
            "|video_id   |title                                                      |publishedAt        |channelTitle|categoryId|trending_date|view_count |likes  |dislikes|comment_count|publishedDate|daystakentotrend|\n",
            "+-----------+-----------------------------------------------------------+-------------------+------------+----------+-------------+-----------+-------+--------+-------------+-------------+----------------+\n",
            "|TR0I0STLyws|A different kind of membership. Walmart+ | Mobile scan & go|2020-09-15 13:00:11|Walmart     |22        |2020-10-12   |117988.0   |410.0  |283.0   |0.0          |2020-09-15   |27              |\n",
            "|izVdUXx5zaU|Walmart Back to College | However you study                |2020-08-06 17:10:23|Walmart     |22        |2020-09-02   |1205139.0  |24.0   |19.0    |16.0         |2020-08-06   |27              |\n",
            "|MeYkO5vkakg|A different kind of membership. Walmart+ | The Cox Family  |2020-09-15 13:00:05|Walmart     |22        |2020-10-12   |1.1624348E7|9273.0 |5636.0  |0.0          |2020-09-15   |27              |\n",
            "|Zsfo9ECSEtA|how to open packaged scissors with no scissors             |2020-10-13 16:00:09|Alex Martens|23        |2020-11-08   |467864.0   |14478.0|968.0   |629.0        |2020-10-13   |26              |\n",
            "+-----------+-----------------------------------------------------------+-------------------+------------+----------+-------------+-----------+-------+--------+-------------+-------------+----------------+\n",
            "only showing top 4 rows\n",
            "\n",
            "====== 1092 videos Started trending on same day as Published. ======\n",
            "+-----------+--------------------+-------------------+--------------+----------+-------------+----------+--------+--------+-------------+-------------+----------------+\n",
            "|   video_id|               title|        publishedAt|  channelTitle|categoryId|trending_date|view_count|   likes|dislikes|comment_count|publishedDate|daystakentotrend|\n",
            "+-----------+--------------------+-------------------+--------------+----------+-------------+----------+--------+--------+-------------+-------------+----------------+\n",
            "|3JxF7DuJzjc|ROCKETS at THUNDE...|2020-09-01 03:58:10|           NBA|        17|   2020-09-01| 1174561.0| 10178.0|   478.0|       2768.0|   2020-09-01|               0|\n",
            "|bWTEmyTpBrQ|You can change yo...|2021-02-11 01:01:35|      Flamingo|        20|   2021-02-11| 1351061.0| 88299.0|   611.0|      18862.0|   2021-02-11|               0|\n",
            "|Rh_mIhLpAnA|Value Pack Games ...|2021-03-29 00:00:03| Scott The Woz|        20|   2021-03-29|  600735.0| 61256.0|   303.0|       4789.0|   2021-03-29|               0|\n",
            "|0eF0Ax8aGfc|Toosii - shop (Of...|2021-05-07 04:02:25|  Toosii2xVEVO|        10|   2021-05-07|  389841.0| 34250.0|   342.0|       4417.0|   2021-05-07|               0|\n",
            "|9syCTdjUhCA|Olivia Rodrigo - ...|2021-06-30 04:06:05|Olivia Rodrigo|        10|   2021-06-30| 3243728.0|537634.0|  1567.0|      17988.0|   2021-06-30|               0|\n",
            "+-----------+--------------------+-------------------+--------------+----------+-------------+----------+--------+--------+-------------+-------------+----------------+\n",
            "only showing top 5 rows\n",
            "\n",
            "====== Trending videos from Category : People & Blogs took longer time to trend compared to other categories. ======\n",
            "+---------------------+----------+--------------------+\n",
            "|Category             |categoryId|avg_daystakentotrend|\n",
            "+---------------------+----------+--------------------+\n",
            "|People & Blogs       |22        |1.6757337151037939  |\n",
            "|Pets & Animals       |15        |1.5730337078651686  |\n",
            "|Comedy               |23        |1.5206422018348624  |\n",
            "|Entertainment        |24        |1.5093599033816425  |\n",
            "|News & Politics      |25        |1.4807987711213517  |\n",
            "|Gaming               |20        |1.4688156972669937  |\n",
            "|Howto & Style        |26        |1.4557692307692307  |\n",
            "|Film & Animation     |1         |1.451559934318555   |\n",
            "|Science & Technology |28        |1.4078303425774878  |\n",
            "|Education            |27        |1.3948126801152738  |\n",
            "|Autos & Vehicles     |2         |1.3863636363636365  |\n",
            "|Music                |10        |1.3696160267111852  |\n",
            "|Nonprofits & Activism|29        |1.3333333333333333  |\n",
            "|Sports               |17        |1.3162970106075218  |\n",
            "|Travel & Events      |19        |1.289855072463768   |\n",
            "+---------------------+----------+--------------------+\n",
            "\n",
            "time: 1min 1s (started: 2021-12-10 18:57:20 +00:00)\n"
          ]
        }
      ],
      "source": [
        "# b) How long does it take a Video to become trending for the first time? Videos from which category has a longer trend? \n",
        "inputdf_1b = finaldf_1a.withColumn(\"publishedDate\", expr(\"date(publishedAt)\")).withColumn(\"timetakentotrend\", expr(\"trending_date - publishedDate\"))\\\n",
        "             .where(col(\"timetakentotrend\").isNotNull()).withColumn(\"timetakentotrend\",col(\"timetakentotrend\").cast(StringType())).drop(\"channelId\",\"comments_disabled\",\"ratings_disabled\")\n",
        "\n",
        "split_timetaken_1b = F.split(inputdf_1b['timetakentotrend'], ' ')\n",
        "\n",
        "daystakentotrenddf_1b = inputdf_1b.withColumn(\"daystakentotrend\", split_timetaken_1b.getItem(0))\\\n",
        "            .withColumn(\"daystakentotrend\",col(\"daystakentotrend\").cast(IntegerType())).drop(\"timetakentotrend\",\"\")\n",
        "\n",
        "maxdaystotrenddf_1b = daystakentotrenddf_1b.orderBy(\"daystakentotrend\", ascending=False)\n",
        "## Maximum it took 27 days for a video to trend from its publish date. (3 videos : All from Walmart)\n",
        "print(\"====== Maximum it took \"+ str(maxdaystotrenddf_1b.collect()[0][11]) + \" days for a video to trend from its publish date. ======\")\n",
        "maxdaystotrenddf_1b.show(4, truncate=False)\n",
        "\n",
        "## 1087 videos Started trending on same day as Published.\n",
        "zerodaystotrenddf_1b = daystakentotrenddf_1b.where(col(\"daystakentotrend\") == 0)\n",
        "print(\"====== \"+ str(zerodaystotrenddf_1b.count()) + \" videos Started trending on same day as Published. ======\")\n",
        "zerodaystotrenddf_1b.show(5)\n",
        "#zerodaystotrenddf_1b.count()\n",
        "\n",
        "## Trending videos from Category ID 22 (\"People & Blogs\") took longer time to trend compared to other categories.\n",
        "longertrendbycatdf_1b = daystakentotrenddf_1b.groupBy(\"categoryId\").agg(F.avg(\"daystakentotrend\"))\\\n",
        "                        .withColumnRenamed(\"avg(daystakentotrend)\", \"avg_daystakentotrend\").orderBy(\"avg_daystakentotrend\", ascending=False)\n",
        "\n",
        "# Add Category Name from JASON File\n",
        "categorynamedf_1b = ytvusjdf.join(longertrendbycatdf_1b, (longertrendbycatdf_1b.categoryId == ytvusjdf.id))\\\n",
        "                    .drop(\"id\").orderBy(\"avg_daystakentotrend\", ascending=False)\n",
        "print(\"====== Trending videos from Category : \"+ str(categorynamedf_1b.collect()[0][0]) + \" took longer time to trend compared to other categories. ======\")\n",
        "categorynamedf_1b.show(20, truncate=False)\n"
      ]
    },
    {
      "cell_type": "code",
      "execution_count": 29,
      "metadata": {
        "colab": {
          "base_uri": "https://localhost:8080/"
        },
        "outputId": "43b88cee-f2cd-4619-84d4-1e1f02e94ad9",
        "id": "UyjPKdyQDqyi"
      },
      "outputs": [
        {
          "output_type": "stream",
          "name": "stdout",
          "text": [
            "====== Maximum it took 27 days for a video to trend from its publish date. ======\n",
            "+-----------+-----------------------------------------------------------+------------+----------+-------------+-----------+-------+--------+-------------+-------------+----------------+\n",
            "|video_id   |title                                                      |channelTitle|categoryId|trending_date|view_count |likes  |dislikes|comment_count|publishedDate|daystakentotrend|\n",
            "+-----------+-----------------------------------------------------------+------------+----------+-------------+-----------+-------+--------+-------------+-------------+----------------+\n",
            "|TR0I0STLyws|A different kind of membership. Walmart+ | Mobile scan & go|Walmart     |22        |2020-10-12   |117988.0   |410.0  |283.0   |0.0          |2020-09-15   |27              |\n",
            "|izVdUXx5zaU|Walmart Back to College | However you study                |Walmart     |22        |2020-09-02   |1205139.0  |24.0   |19.0    |16.0         |2020-08-06   |27              |\n",
            "|MeYkO5vkakg|A different kind of membership. Walmart+ | The Cox Family  |Walmart     |22        |2020-10-12   |1.1624348E7|9273.0 |5636.0  |0.0          |2020-09-15   |27              |\n",
            "|Zsfo9ECSEtA|how to open packaged scissors with no scissors             |Alex Martens|23        |2020-11-08   |467864.0   |14478.0|968.0   |629.0        |2020-10-13   |26              |\n",
            "+-----------+-----------------------------------------------------------+------------+----------+-------------+-----------+-------+--------+-------------+-------------+----------------+\n",
            "only showing top 4 rows\n",
            "\n",
            "====== 1092 videos Started trending on same day as Published. ======\n",
            "+-----------+--------------------+--------------+----------+-------------+----------+--------+--------+-------------+-------------+----------------+\n",
            "|   video_id|               title|  channelTitle|categoryId|trending_date|view_count|   likes|dislikes|comment_count|publishedDate|daystakentotrend|\n",
            "+-----------+--------------------+--------------+----------+-------------+----------+--------+--------+-------------+-------------+----------------+\n",
            "|3JxF7DuJzjc|ROCKETS at THUNDE...|           NBA|        17|   2020-09-01| 1174561.0| 10178.0|   478.0|       2768.0|   2020-09-01|               0|\n",
            "|bWTEmyTpBrQ|You can change yo...|      Flamingo|        20|   2021-02-11| 1351061.0| 88299.0|   611.0|      18862.0|   2021-02-11|               0|\n",
            "|Rh_mIhLpAnA|Value Pack Games ...| Scott The Woz|        20|   2021-03-29|  600735.0| 61256.0|   303.0|       4789.0|   2021-03-29|               0|\n",
            "|0eF0Ax8aGfc|Toosii - shop (Of...|  Toosii2xVEVO|        10|   2021-05-07|  389841.0| 34250.0|   342.0|       4417.0|   2021-05-07|               0|\n",
            "|9syCTdjUhCA|Olivia Rodrigo - ...|Olivia Rodrigo|        10|   2021-06-30| 3243728.0|537634.0|  1567.0|      17988.0|   2021-06-30|               0|\n",
            "+-----------+--------------------+--------------+----------+-------------+----------+--------+--------+-------------+-------------+----------------+\n",
            "only showing top 5 rows\n",
            "\n",
            "====== Trending videos from Category : People & Blogs took longer time to trend compared to other categories. ======\n",
            "+---------------------+----------+--------------------+\n",
            "|Category             |categoryId|avg_daystakentotrend|\n",
            "+---------------------+----------+--------------------+\n",
            "|People & Blogs       |22        |1.6757337151037939  |\n",
            "|Pets & Animals       |15        |1.5730337078651686  |\n",
            "|Comedy               |23        |1.5206422018348624  |\n",
            "|Entertainment        |24        |1.5093599033816425  |\n",
            "|News & Politics      |25        |1.4807987711213517  |\n",
            "|Gaming               |20        |1.4688156972669937  |\n",
            "|Howto & Style        |26        |1.4557692307692307  |\n",
            "|Film & Animation     |1         |1.451559934318555   |\n",
            "|Science & Technology |28        |1.4078303425774878  |\n",
            "|Education            |27        |1.3948126801152738  |\n",
            "|Autos & Vehicles     |2         |1.3863636363636365  |\n",
            "|Music                |10        |1.3696160267111852  |\n",
            "|Nonprofits & Activism|29        |1.3333333333333333  |\n",
            "|Sports               |17        |1.3162970106075218  |\n",
            "|Travel & Events      |19        |1.289855072463768   |\n",
            "+---------------------+----------+--------------------+\n",
            "\n",
            "time: 58.6 s (started: 2021-12-10 18:58:21 +00:00)\n"
          ]
        }
      ],
      "source": [
        "# b) How long does it take a Video to become trending for the first time? Videos from which category has a longer trend? \n",
        "inputdf_1b = finaldf_1a.withColumn(\"publishedDate\", expr(\"date(publishedAt)\")).withColumn(\"timetakentotrend\", expr(\"trending_date - publishedDate\"))\\\n",
        "             .where(col(\"timetakentotrend\").isNotNull()).withColumn(\"timetakentotrend\",col(\"timetakentotrend\").cast(StringType())).drop(\"channelId\",\"comments_disabled\",\"ratings_disabled\")\n",
        "\n",
        "split_timetaken_1b = F.split(inputdf_1b['timetakentotrend'], ' ')\n",
        "\n",
        "daystakentotrenddf_1b = inputdf_1b.withColumn(\"daystakentotrend\", split_timetaken_1b.getItem(0))\\\n",
        "            .withColumn(\"daystakentotrend\",col(\"daystakentotrend\").cast(IntegerType())).drop(\"timetakentotrend\", \"publishedAt\")\n",
        "\n",
        "maxdaystotrenddf_1b = daystakentotrenddf_1b.orderBy(\"daystakentotrend\", ascending=False)\n",
        "## Maximum it took 27 days for a video to trend from its publish date. (3 videos : All from Walmart)\n",
        "print(\"====== Maximum it took \"+ str(maxdaystotrenddf_1b.collect()[0][10]) + \" days for a video to trend from its publish date. ======\")\n",
        "maxdaystotrenddf_1b.show(4, truncate=False)\n",
        "\n",
        "## 1087 videos Started trending on same day as Published.\n",
        "zerodaystotrenddf_1b = daystakentotrenddf_1b.where(col(\"daystakentotrend\") == 0)\n",
        "print(\"====== \"+ str(zerodaystotrenddf_1b.count()) + \" videos Started trending on same day as Published. ======\")\n",
        "zerodaystotrenddf_1b.show(5)\n",
        "#zerodaystotrenddf_1b.count()\n",
        "\n",
        "## Trending videos from Category ID 22 (\"People & Blogs\") took longer time to trend compared to other categories.\n",
        "longertrendbycatdf_1b = daystakentotrenddf_1b.groupBy(\"categoryId\").agg(F.avg(\"daystakentotrend\"))\\\n",
        "                        .withColumnRenamed(\"avg(daystakentotrend)\", \"avg_daystakentotrend\").orderBy(\"avg_daystakentotrend\", ascending=False)\n",
        "\n",
        "# Add Category Name from JASON File\n",
        "categorynamedf_1b = ytvusjdf.join(longertrendbycatdf_1b, (longertrendbycatdf_1b.categoryId == ytvusjdf.id))\\\n",
        "                    .drop(\"id\").orderBy(\"avg_daystakentotrend\", ascending=False)\n",
        "print(\"====== Trending videos from Category : \"+ str(categorynamedf_1b.collect()[0][0]) + \" took longer time to trend compared to other categories. ======\")\n",
        "categorynamedf_1b.show(20, truncate=False)\n"
      ]
    },
    {
      "cell_type": "code",
      "source": [
        "#Histogram for X: No of Days Taken to Trend (Vs) Y: number of videos per bin/bucket.\n",
        "VDFHIST1DAYS_1B = daystakentotrenddf_1b.select(\"daystakentotrend\").orderBy(\"daystakentotrend\", ascending=False)\n",
        "VDFHIST1DAYS_1BOUT = [data[0] for data in VDFHIST1DAYS_1B.select('daystakentotrend').collect()]\n",
        "\n",
        "fig, ax = plt.subplots(figsize=(15,10))\n",
        "ax.hist(VDFHIST1DAYS_1BOUT, bins = [0,2,4,6,8,10,12,14,16,18,20,22,24,26,28])\n",
        "ax.set_title(\"Days Taken to Trend (Vs) Number of videos\")\n",
        "ax.set_xlabel('No. of Days Taken to Trend')\n",
        "ax.set_ylabel('Number of videos')\n",
        "ax.set_xticks([0,2,4,6,8,10,12,14,16,18,20,22,24,26,28])\n",
        "plt.yscale('log')\n",
        "plt.show()"
      ],
      "metadata": {
        "colab": {
          "base_uri": "https://localhost:8080/",
          "height": 650
        },
        "id": "cSBx_7R2MS3d",
        "outputId": "8d1557ef-1295-4b67-a4f7-def01abe0bc9"
      },
      "execution_count": 30,
      "outputs": [
        {
          "output_type": "display_data",
          "data": {
            "image/png": "[encoded data removed]",
            "text/plain": [
              "<Figure size 1080x720 with 1 Axes>"
            ]
          },
          "metadata": {
            "needs_background": "light"
          }
        },
        {
          "output_type": "stream",
          "name": "stdout",
          "text": [
            "time: 11.5 s (started: 2021-12-10 18:59:20 +00:00)\n"
          ]
        }
      ]
    },
    {
      "cell_type": "code",
      "execution_count": 31,
      "metadata": {
        "colab": {
          "base_uri": "https://localhost:8080/"
        },
        "id": "LdjKp8RMmE2W",
        "outputId": "38f08772-c642-4972-ef2a-37f6a21e464f"
      },
      "outputs": [
        {
          "output_type": "display_data",
          "data": {
            "image/png": "[encoded data removed]",
            "text/plain": [
              "<Figure size 1080x720 with 1 Axes>"
            ]
          },
          "metadata": {
            "needs_background": "light"
          }
        },
        {
          "output_type": "stream",
          "name": "stdout",
          "text": [
            "time: 25.4 s (started: 2021-12-10 18:59:31 +00:00)\n"
          ]
        }
      ],
      "source": [
        "# Bar Plot for 1B : Category (Vs) Avg. Days taken to trend\n",
        "import numpy as np\n",
        "import matplotlib.pyplot as plt\n",
        "\n",
        "VDFBAR1_1B = categorynamedf_1b.select(\"Category\")\n",
        "VDFBAR1_1BOUT = [data[0] for data in VDFBAR1_1B.select('Category').collect()]\n",
        "#print(VDFBAR1_1BOUT)\n",
        "\n",
        "VDFBAR2_1B = categorynamedf_1b.select(\"avg_daystakentotrend\")\n",
        "VDFBAR2_1BOUT = [data[0] for data in VDFBAR2_1B.select('avg_daystakentotrend').collect()]\n",
        "#print(VDFBAR2_1BOUT)\n",
        "\n",
        "fig, ax = plt.subplots(figsize=(15,10))\n",
        "#ax.bar(VDFBAR1_1BOUT,VDFBAR2_1BOUT)\n",
        "sns.set_style(\"whitegrid\")\n",
        "ax = sns.barplot(y=VDFBAR1_1BOUT,x=VDFBAR2_1BOUT,orient=\"h\")\n",
        "ax.set_title(\"Category (Vs) Avg. Days taken to trend\")\n",
        "ax.set_xlabel('Avg. Days taken to trend')\n",
        "ax.set_ylabel('Category')\n",
        "plt.show()"
      ]
    },
    {
      "cell_type": "code",
      "execution_count": null,
      "metadata": {
        "id": "frnNJ1xrlIdH"
      },
      "outputs": [],
      "source": [
        "# c) What percentage of trending Videos have more Dislikes than Likes? (Negative publicity inference) \n",
        "\n",
        "# On 16455 First time trending videos \n",
        "popularbutnotlikeddf_1c = finaldf_1a.where(expr(\"dislikes - likes\") > 0)\n",
        "## 59 / 16455 = Only 0.36 % Videos have more Dislikes than likes when they first became trending.\n",
        "print(\"====== \"+ str(popularbutnotlikeddf_1c.count()) + \" Videos out of \"+ str(finaldf_1a.count()) +\" i.e. Only 0.36% Videos have more Dislikes than likes when they first became trending. ======\")\n",
        "popularbutnotlikeddf_1c.count() # 59\n",
        "# finaldf_1a.count() # 16455\n",
        "\n",
        "\n",
        "# On all 91791 videos \n",
        "## 363/91791 = 0.395 of total Videos have more Dislikes than likes.\n",
        "totalnotlikeddf_1c = cleandf_1a.where(expr(\"dislikes - likes\") > 0)\n",
        "print(\"====== \"+ str(totalnotlikeddf_1c.count()) +\" Videos out of \"+ str(cleandf_1a.count()) + \" i.e. Only 0.395% of total Videos have more Dislikes than likes. ======\")\n",
        "totalnotlikeddf_1c.count() # 363\n",
        "# cleandf_1a.count() # 91791\n"
      ]
    },
    {
      "cell_type": "code",
      "execution_count": null,
      "metadata": {
        "id": "hA4fr_TQlKsX"
      },
      "outputs": [],
      "source": [
        "# d) Which category of Video becomes most trending? Users like videos from which CATEGORY the most? \n",
        "\n",
        "# Which category of Video becomes most trending?\n",
        "categorydf_1d = cleandf_1a.select(\"categoryId\").withColumn(\"count\", expr(\"1\")).groupBy(\"categoryId\").agg(F.sum(\"count\"))\\\n",
        "                 .withColumnRenamed(\"sum(count)\",\"count\")\n",
        "\n",
        "# Add Category Name from JASON File\n",
        "categorynamedf_1d = ytvusjdf.join(categorydf_1d, (categorydf_1d.categoryId == ytvusjdf.id))\\\n",
        "                    .drop(\"id\").orderBy(\"count\", ascending=False)\n",
        "\n",
        "## Ofcourse \"Entertainment\" Category (24) becomes more trending with 18373 trending videos count\n",
        "## \"Nonprofits & Activism\" Category (29) stands least with 88 trending videos count\n",
        "cat1dcount = categorynamedf_1d.count()\n",
        "print(\"====== Ofcourse \"+ str(categorynamedf_1d.collect()[0][0]) + \" Category (24) becomes more trending with \"+ str(categorynamedf_1d.collect()[0][2]) +\" trending videos count ======\")\n",
        "print(\"====== \"+str(categorynamedf_1d.collect()[cat1dcount-1][0]) + \" Category (29) stands least with \"+ str(categorynamedf_1d.collect()[cat1dcount-1][2]) +\" trending videos count ======\")\n",
        "categorynamedf_1d.show(cat1dcount, truncate=False)"
      ]
    },
    {
      "cell_type": "code",
      "execution_count": null,
      "metadata": {
        "id": "_lHCT_x5mxp8"
      },
      "outputs": [],
      "source": [
        "##Plot for Which category of Video becomes most trending?\n",
        "\n",
        "VDFBAR1_1D = categorynamedf_1d.select(\"Category\")\n",
        "VDFBAR1_1DOUT = [data[0] for data in VDFBAR1_1D.select('Category').collect()]\n",
        "#print(VDFBAR1_1BOUT)\n",
        "\n",
        "VDFBAR2_1D = categorynamedf_1d.select(\"count\")\n",
        "VDFBAR2_1DOUT = [data[0] for data in VDFBAR2_1D.select('count').collect()]\n",
        "#print(VDFBAR2_1BOUT)\n",
        "\n",
        "plt.figure(figsize=(15,10))\n",
        "sns.set_style(\"whitegrid\")\n",
        "ax = sns.barplot(y=VDFBAR1_1DOUT,x=VDFBAR2_1DOUT,orient=\"h\")\n",
        "plt.xlabel(\"Number of Videos\")\n",
        "plt.ylabel(\"Categories\")\n",
        "plt.title(\"Catogories of trend videos in US\")"
      ]
    },
    {
      "cell_type": "code",
      "execution_count": null,
      "metadata": {
        "id": "fYv14tCfX9kD"
      },
      "outputs": [],
      "source": [
        "#Users like videos from which CATEGORY the most?\n",
        "\n",
        "likesbyCatergorydf_1d = cleandf_1a.select(\"categoryId\", \"likes\").groupBy(\"categoryId\").agg(F.avg(\"likes\"))\\\n",
        "                        .withColumnRenamed(\"avg(likes)\",\"Avg_likes\")\n",
        "likesbyCatergorynamedf_1d = ytvusjdf.join(likesbyCatergorydf_1d, (likesbyCatergorydf_1d.categoryId == ytvusjdf.id))\\\n",
        "                           .drop(\"id\").orderBy(\"Avg_likes\", ascending=False)\n",
        "## \"Music\" Category(10) has highest avg of likes (~324052) and \"News & Politics\" with least avg of likes (22934)\n",
        "cat1dlikescount = likesbyCatergorynamedf_1d.count()\n",
        "print(\"====== \"+ str(likesbyCatergorynamedf_1d.collect()[0][0]) + \" Category(\"+ str(likesbyCatergorynamedf_1d.collect()[0][1]) +\") has highest avg of likes ======\")\n",
        "print(\"====== \"+ str(likesbyCatergorynamedf_1d.collect()[cat1dlikescount-1][0]) + \" Category(\"+ str(likesbyCatergorynamedf_1d.collect()[cat1dlikescount-1][1]) +\") with least avg of likes ======\")\n",
        "likesbyCatergorynamedf_1d.show(cat1dlikescount, truncate=False)\n",
        "\n",
        "dislikesbyCatergorydf_1d = cleandf_1a.select(\"categoryId\", \"dislikes\").groupBy(\"categoryId\").agg(F.avg(\"dislikes\"))\\\n",
        "                        .withColumnRenamed(\"avg(dislikes)\",\"dislikes\")\n",
        "dislikesbyCatergorynamedf_1d = ytvusjdf.join(dislikesbyCatergorydf_1d, (dislikesbyCatergorydf_1d.categoryId == ytvusjdf.id))\\\n",
        "                           .drop(\"id\").orderBy(\"dislikes\", ascending=False)\n",
        "cat1ddislikescount = likesbyCatergorynamedf_1d.count()\n",
        "## \"Music\" Category(10) has highest avg of dislikes also (~6068) and \"Pets & Animals\" with least avg of dislikes (743)\n",
        "print(\"====== \"+ str(dislikesbyCatergorynamedf_1d.collect()[0][0]) + \" Category(\"+ str(dislikesbyCatergorynamedf_1d.collect()[0][1]) +\") has highest avg of dislikes also ======\")\n",
        "print(\"====== \"+ str(dislikesbyCatergorynamedf_1d.collect()[cat1ddislikescount-1][0]) + \" Category(\"+ str(dislikesbyCatergorynamedf_1d.collect()[cat1ddislikescount-1][1]) +\") with least avg of dislikes ======\")\n",
        "dislikesbyCatergorynamedf_1d.show(cat1ddislikescount, truncate=False)\n"
      ]
    },
    {
      "cell_type": "code",
      "execution_count": null,
      "metadata": {
        "id": "c4SPBYkTdHi1"
      },
      "outputs": [],
      "source": [
        "##Plot for Users like videos from which CATEGORY the most?\n",
        "import seaborn as sns\n",
        "\n",
        "VDFBAR3_1D = likesbyCatergorynamedf_1d.select(\"Category\")\n",
        "VDFBAR3_1DOUT = [data[0] for data in VDFBAR3_1D.select('Category').collect()]\n",
        "#print(VDFBAR1_1BOUT)\n",
        "\n",
        "VDFBAR4_1D = likesbyCatergorynamedf_1d.select(\"Avg_likes\")\n",
        "VDFBAR4_1DOUT = [data[0] for data in VDFBAR4_1D.select('Avg_likes').collect()]\n",
        "#print(VDFBAR2_1BOUT)\n",
        "\n",
        "plt.figure(figsize=(15,10))\n",
        "sns.set_style(\"whitegrid\")\n",
        "ax = sns.barplot(y=VDFBAR3_1DOUT,x=VDFBAR4_1DOUT,orient=\"h\")\n",
        "plt.xlabel(\"Avg. Number of Likes\")\n",
        "plt.ylabel(\"Categories\")\n",
        "plt.title(\"Catogories Vs Likes of trend videos in US\")"
      ]
    },
    {
      "cell_type": "code",
      "execution_count": null,
      "metadata": {
        "id": "e58UMXd5lM6S"
      },
      "outputs": [],
      "source": [
        "# e) Which channels produced more trending videos? \n",
        "\n",
        "Channelvidcountdf_1e = cleandf_1a.select(\"channelId\", \"channelTitle\").withColumn(\"count\", expr(\"1\"))\\\n",
        "                      .groupBy(\"channelId\", \"channelTitle\").agg(F.sum(\"count\")).withColumnRenamed(\"channelId\",\"channel_Id\")\\\n",
        "                      .withColumnRenamed(\"sum(count)\",\"count\").orderBy(\"count\", ascending=False)\n",
        "\n",
        "## \"NBA\" channel (with Channel ID: UCWJ2lWNubArHWmf3FIHbfcQ) has hosted highest trending videos (578).\n",
        "channel1ecount = Channelvidcountdf_1e.count()\n",
        "print(\"====== \"+ str(Channelvidcountdf_1e.collect()[0][1]) + \" channel(with Channel ID:\"+ str(Channelvidcountdf_1e.collect()[0][0]) +\") has hosted highest trending videos \" + str(Channelvidcountdf_1e.collect()[0][2]) +\" ======\")\n",
        "Channelvidcountdf_1e.show(2, truncate=False)\n",
        "\n",
        "## 41 channels has only 1 video trending and only on one day.\n",
        "Channelonevideodf_1e = Channelvidcountdf_1e.filter(col(\"count\") == \"1\")\n",
        "print(\"====== \"+ str(Channelonevideodf_1e.count()) + \" channels has only \"+ str(Channelonevideodf_1e.collect()[0][2]) +\" video trending and only on one day. ======\")\n",
        "Channelonevideodf_1e.show(2, truncate=False)\n"
      ]
    },
    {
      "cell_type": "code",
      "execution_count": null,
      "metadata": {
        "id": "cY-0weewmCOR"
      },
      "outputs": [],
      "source": [
        "# f) How many videos appeared trending for most of the days?\n",
        "\n",
        "## Correlation between Days of Publish to Trend (v/s) Trending Duration.\n",
        "\n",
        "df3 = usadf.where(col(\"Description\").isNotNull()).withColumn(\"publishedAt\",F.to_timestamp(col(\"publishedAt\"))).\\\n",
        "withColumn(\"trending_date\",F.to_timestamp(col(\"trending_date\"))).\\\n",
        "withColumn(\"Date Diff\",F.datediff(col(\"trending_date\"),col(\"publishedAt\"))).\\\n",
        "groupby(col(\"video_id\")).agg(F.min(\"Date Diff\"),F.count(\"Date Diff\")).\\\n",
        "withColumnRenamed(\"min(Date Diff)\",\"Days to Trend\").\\\n",
        "withColumnRenamed(\"count(Date Diff)\",\"Trending Duration\")"
      ]
    },
    {
      "cell_type": "code",
      "execution_count": null,
      "metadata": {
        "id": "ZB7CgltH3aw2"
      },
      "outputs": [],
      "source": [
        "## Plot for 1f : How many videos appeared trending for most of the days?\n",
        "trendingHist = [data[0] for data in df3.select('Trending Duration').collect()]\n",
        "\n",
        "from matplotlib import pyplot as plt\n",
        "import numpy as np\n",
        "fig,ax = plt.subplots(1,1)\n",
        "\n",
        "ax.hist(trendingHist, bins = [0,2,4,6,8,10,12,14,16,18,20])\n",
        "ax.set_title(\"Histogram of Trending Duration\")\n",
        "ax.set_xlabel('Trending duration (Days)')\n",
        "ax.set_ylabel('Number of Videos')\n",
        "ax.set_xticks([0,2,4,6,8,10,12,14,16,18,20])\n",
        "plt.show()"
      ]
    },
    {
      "cell_type": "code",
      "execution_count": null,
      "metadata": {
        "id": "-vfO1D0q4J2v"
      },
      "outputs": [],
      "source": [
        "# Section 2 -  Starts Here"
      ]
    },
    {
      "cell_type": "code",
      "execution_count": null,
      "metadata": {
        "id": "datuqFrT4ECn"
      },
      "outputs": [],
      "source": [
        "# Section 3  - Starts Here"
      ]
    },
    {
      "cell_type": "code",
      "execution_count": null,
      "metadata": {
        "id": "7MEMvccAKBZo"
      },
      "outputs": [],
      "source": [
        "### Helper function for drawing heatmap\n",
        "def heatmap(data, row_labels, col_labels, ax=None,\n",
        "            cbar_kw={}, cbarlabel=\"\", **kwargs):\n",
        "    \"\"\"\n",
        "    Create a heatmap from a numpy array and two lists of labels.\n",
        "\n",
        "    Parameters\n",
        "    ----------\n",
        "    data\n",
        "        A 2D numpy array of shape (M, N).\n",
        "    row_labels\n",
        "        A list or array of length M with the labels for the rows.\n",
        "    col_labels\n",
        "        A list or array of length N with the labels for the columns.\n",
        "    ax\n",
        "        A `matplotlib.axes.Axes` instance to which the heatmap is plotted.  If\n",
        "        not provided, use current axes or create a new one.  Optional.\n",
        "    cbar_kw\n",
        "        A dictionary with arguments to `matplotlib.Figure.colorbar`.  Optional.\n",
        "    cbarlabel\n",
        "        The label for the colorbar.  Optional.\n",
        "    **kwargs\n",
        "        All other arguments are forwarded to `imshow`.\n",
        "    \"\"\"\n",
        "\n",
        "    if not ax:\n",
        "        ax = plt.gca()\n",
        "\n",
        "    # Plot the heatmap\n",
        "    im = ax.imshow(data, **kwargs)\n",
        "\n",
        "    # Create colorbar\n",
        "    cbar = ax.figure.colorbar(im, ax=ax, **cbar_kw)\n",
        "    cbar.ax.set_ylabel(cbarlabel, rotation=-90, va=\"bottom\")\n",
        "\n",
        "    # Show all ticks and label them with the respective list entries.\n",
        "    ax.set_xticks(np.arange(data.shape[1]))\n",
        "    ax.set_xticklabels(col_labels)\n",
        "    ax.set_yticks(np.arange(data.shape[0]))\n",
        "    ax.set_yticklabels(row_labels)\n",
        "    \n",
        "\n",
        "    # Let the horizontal axes labeling appear on top.\n",
        "    ax.tick_params(top=True, bottom=False,\n",
        "                   labeltop=True, labelbottom=False)\n",
        "\n",
        "    # Rotate the tick labels and set their alignment.\n",
        "    plt.setp(ax.get_xticklabels(), rotation=-30, ha=\"right\",\n",
        "             rotation_mode=\"anchor\")\n",
        "\n",
        "    # Turn spines off and create white grid.\n",
        "    # ax.spines[:].set_visible(False)\n",
        "\n",
        "    ax.set_xticks(np.arange(data.shape[1]+1)-.5, minor=True)\n",
        "    ax.set_yticks(np.arange(data.shape[0]+1)-.5, minor=True)\n",
        "    ax.grid(which=\"minor\", color=\"w\", linestyle='-', linewidth=3)\n",
        "    ax.tick_params(which=\"minor\", bottom=False, left=False)\n",
        "\n",
        "    return im, cbar\n",
        "\n",
        "\n",
        "def annotate_heatmap(im, data=None, valfmt=\"{x:.2f}\",\n",
        "                     textcolors=(\"black\", \"white\"),\n",
        "                     threshold=None, **textkw):\n",
        "    \"\"\"\n",
        "    A function to annotate a heatmap.\n",
        "\n",
        "    Parameters\n",
        "    ----------\n",
        "    im\n",
        "        The AxesImage to be labeled.\n",
        "    data\n",
        "        Data used to annotate.  If None, the image's data is used.  Optional.\n",
        "    valfmt\n",
        "        The format of the annotations inside the heatmap.  This should either\n",
        "        use the string format method, e.g. \"$ {x:.2f}\", or be a\n",
        "        `matplotlib.ticker.Formatter`.  Optional.\n",
        "    textcolors\n",
        "        A pair of colors.  The first is used for values below a threshold,\n",
        "        the second for those above.  Optional.\n",
        "    threshold\n",
        "        Value in data units according to which the colors from textcolors are\n",
        "        applied.  If None (the default) uses the middle of the colormap as\n",
        "        separation.  Optional.\n",
        "    **kwargs\n",
        "        All other arguments are forwarded to each call to `text` used to create\n",
        "        the text labels.\n",
        "    \"\"\"\n",
        "\n",
        "    if not isinstance(data, (list, np.ndarray)):\n",
        "        data = im.get_array()\n",
        "\n",
        "    # Normalize the threshold to the images color range.\n",
        "    if threshold is not None:\n",
        "        threshold = im.norm(threshold)\n",
        "    else:\n",
        "        threshold = im.norm(data.max())/2.\n",
        "\n",
        "    # Set default alignment to center, but allow it to be\n",
        "    # overwritten by textkw.\n",
        "    kw = dict(horizontalalignment=\"center\",\n",
        "              verticalalignment=\"center\")\n",
        "    kw.update(textkw)\n",
        "\n",
        "    # Get the formatter in case a string is supplied\n",
        "    if isinstance(valfmt, str):\n",
        "        valfmt = matplotlib.ticker.StrMethodFormatter(valfmt)\n",
        "\n",
        "    # Loop over the data and create a `Text` for each \"pixel\".\n",
        "    # Change the text's color depending on the data.\n",
        "    texts = []\n",
        "    for i in range(data.shape[0]):\n",
        "        for j in range(data.shape[1]):\n",
        "            kw.update(color=textcolors[int(im.norm(data[i, j]) > threshold)])\n",
        "            text = im.axes.text(j, i, valfmt(data[i, j], None), **kw)\n",
        "            texts.append(text)\n",
        "\n",
        "    return texts"
      ]
    },
    {
      "cell_type": "markdown",
      "metadata": {
        "id": "7JrzRvx2AQ-4"
      },
      "source": [
        "#### Q3A Find correlation ration between likes-dislikes-view-comment for different categories.\n"
      ]
    },
    {
      "cell_type": "code",
      "execution_count": null,
      "metadata": {
        "id": "k22_e2vWAOD8"
      },
      "outputs": [],
      "source": [
        "\n",
        "\n",
        "df11 = usadf.withColumn(\"view_count\",col(\"view_count\").cast(\"double\"))\\\n",
        ".withColumn(\"likes\",col(\"likes\").cast(\"double\"))\\\n",
        ".withColumn(\"dislikes\",col(\"dislikes\").cast(\"double\"))\\\n",
        ".withColumn(\"comment_count\",col(\"comment_count\").cast(\"double\"))\\\n",
        ".withColumn(\"categoryId\",F.col(\"categoryId\").cast(\"int\"))\n",
        "\n",
        "df22 = df11.groupby('categoryId').sum().withColumn(\"ratioLikeDisLike\",col('sum(likes)')/col('sum(dislikes)')).\\\n",
        "withColumn(\"ratioViewComment\",col('sum(view_count)')/col('sum(comment_count)')).\\\n",
        "withColumn(\"ratioDisLikeView\",col('sum(dislikes)')/col('sum(view_count)')).\\\n",
        "withColumn(\"ratioLikeView\",col('sum(likes)')/col('sum(view_count)'))\n",
        "\n",
        "df33 = df22.join(ytvusjdf,df22.categoryId == ytvusjdf.id)\n",
        "\n",
        "def plotData(data_x,data_y,title):\n",
        "  sns.set_style(\"whitegrid\")\n",
        "  sns.set(font_scale = 2)\n",
        "  sns.barplot(x = data_x, y = data_y, orient='h')\n",
        "  plt.xlabel(\"Ratio\")\n",
        "  plt.ylabel(\"Category\")\n",
        "  plt.title(title)\n",
        "\n",
        "plt.figure(figsize=(25,20))\n",
        "plt.subplot(231)\n",
        "x = df33.select([\"ratioLikeDisLike\",\"Category\"]).sort([\"ratioLikeDisLike\"],ascending=False).collect()\n",
        "data_x = [item['ratioLikeDisLike'] for item in x]; data_y = [item['Category'] for item in x]\n",
        "plotData(data_x,data_y,\"Like - Dislike Ratio\")\n",
        "\n",
        "plt.subplot(233)\n",
        "x = df33.select([\"ratioViewComment\",\"Category\"]).sort([\"ratioViewComment\"],ascending=False).collect()\n",
        "data_x = [item['ratioViewComment'] for item in x]; data_y = [item['Category'] for item in x]\n",
        "plotData(data_x,data_y, \"View - Comment Ratio\")\n",
        "\n",
        "plt.subplot(234)\n",
        "x = df33.select([\"ratioDisLikeView\",\"Category\"]).sort([\"ratioDisLikeView\"],ascending=False).collect()\n",
        "data_x = [item['ratioDisLikeView'] for item in x]; data_y = [item['Category'] for item in x]\n",
        "plotData(data_x,data_y,\"Dislike - View Ratio\")\n",
        "\n",
        "plt.subplot(236)\n",
        "x = df33.select([\"ratioLikeView\",\"Category\"]).sort([\"ratioLikeView\"],ascending=False).collect()\n",
        "data_x = [item['ratioLikeView'] for item in x]; data_y = [item['Category'] for item in x]\n",
        "plotData(data_x,data_y, \"Like - View Ratio\")\n",
        "\n",
        "plt.show()"
      ]
    },
    {
      "cell_type": "markdown",
      "metadata": {
        "id": "RTy2yVWxAUyF"
      },
      "source": [
        "Observations:\n",
        "1. News & Politics have lowest like-dislike ratio and view-comment ratio. People relatively dislike these videos and comment alot. It also have highest Dislike- view ratio.\n",
        "\n",
        "2. Pets & Animals videos & Non-profits Videos have highest likes-dislikes ratio. Not suprisingly, people find difficult to hate pets and animals and non-profit activity.\n",
        "\n",
        "3. Sports and Science Technology have largest view-comment ratio. People tend to comment less on these videos compared to music-related video.\n",
        "\n",
        "\n",
        "\n"
      ]
    },
    {
      "cell_type": "markdown",
      "metadata": {
        "id": "5jOiku94jZc0"
      },
      "source": [
        "Q 3.B **Correlation between different metrics through Heat map.**"
      ]
    },
    {
      "cell_type": "code",
      "execution_count": null,
      "metadata": {
        "id": "I33YjIBORF-q"
      },
      "outputs": [],
      "source": [
        "### Get Features\n",
        "df = usadf.where(col(\"description\").isNotNull()).withColumn(\"Description length\",length(\"description\"))\\\n",
        ".withColumn(\"Title length\",length(\"title\"))\\\n",
        ".withColumn(\"Tags length\",length(\"tags\"))\\\n",
        ".withColumn(\"# of Tags\",size(split(col(\"tags\"),\"[|]\")))\\\n",
        ".select(\"view_count\",\"likes\",\"dislikes\",\"comment_count\",\"Description length\",\"Title length\",\"Tags length\",\"# of Tags\",\"categoryId\")\n",
        "\n",
        "### Format data\n",
        "df1 = df.withColumn(\"view_count\",col(\"view_count\").cast(\"double\"))\\\n",
        ".withColumn(\"likes\",col(\"likes\").cast(\"double\"))\\\n",
        ".withColumn(\"dislikes\",col(\"dislikes\").cast(\"double\"))\\\n",
        ".withColumn(\"comment_count\",col(\"comment_count\").cast(\"double\"))\\\n",
        ".withColumn(\"categoryId\",F.col(\"categoryId\").cast(\"int\"))\n",
        "\n",
        "df2 = df1.where(col(\"categoryId\").isNotNull())"
      ]
    },
    {
      "cell_type": "code",
      "execution_count": null,
      "metadata": {
        "id": "ZzB4l57PAkxe"
      },
      "outputs": [],
      "source": [
        "categories = [24,29]\n",
        "\n",
        "## Convert dataframe into vectors\n",
        "vector_col = \"corr_features\"\n",
        "assembler = VectorAssembler(inputCols=df2.columns[:-1], outputCol=vector_col)\n",
        "  \n",
        "### Find correlation of every category for the columns specified and store it in dictionary\n",
        "corr_list = []\n",
        "for ID in categories:\n",
        "  # convert to vector column first\n",
        "  df_vector = assembler.transform(df2.where(col(\"categoryId\") == ID)).select(vector_col)\n",
        "  # get correlation matrix\n",
        "  matrix = Correlation.corr(df_vector, vector_col)\n",
        "  name = ytvusjdf.where(col(\"id\") == ID).select(\"Category\").collect()[0]['Category']\n",
        "  corr_list.append({\"ID\":ID,\"name\":name,\"Corr\":matrix.collect()[0]['pearson(corr_features)'].values})"
      ]
    },
    {
      "cell_type": "code",
      "execution_count": null,
      "metadata": {
        "id": "n1HG2dm2VCLY"
      },
      "outputs": [],
      "source": [
        "## Plot the data\n",
        "sns.reset_defaults()\n",
        "\n",
        "columns = [\"view_count\",\"likes\",\"dislikes\",\"comment_count\",\"Description length\",\"Title length\",\"Tags length\",\"# of Tags\"]\n",
        "plt.figure(figsize=(20,6))\n",
        "plt.subplot(121)\n",
        "im, cbar = heatmap(corr_list[0][\"Corr\"].reshape(len(columns),-1), columns, columns, ax=None, cmap=\"Blues\", cbarlabel=corr_list[0][\"name\"])\n",
        "texts = annotate_heatmap(im, valfmt=\"{x:.2f}\")\n",
        "\n",
        "plt.subplot(122)\n",
        "im, cbar = heatmap(corr_list[1][\"Corr\"].reshape(len(columns),-1), columns, columns, ax=None,cmap=\"Blues\", cbarlabel=corr_list[1][\"name\"])\n",
        "texts = annotate_heatmap(im, valfmt=\"{x:.2f}\")\n",
        "\n",
        "plt.show()"
      ]
    },
    {
      "cell_type": "markdown",
      "metadata": {
        "id": "J82ETMKiDPPy"
      },
      "source": [
        "Observations:\n",
        "1. Videos belong to entertainment category shows high correlation among views, likes, dislikes etc. It shows very less correlation with description length, title length etc\n",
        "\n",
        "2. However, for video which are trending on category like Non-profits and activism, Description length plays an important role.\n",
        "\n",
        "3. 49% correlation is observed between views and description length and 84% correlation between dislikes and description length."
      ]
    },
    {
      "cell_type": "markdown",
      "metadata": {
        "id": "Bi_-Bm3MEBpW"
      },
      "source": [
        "## Q-3c Correlation between Days of Publish to Trend (v/s) Trending Duration."
      ]
    },
    {
      "cell_type": "code",
      "execution_count": null,
      "metadata": {
        "id": "csHx_6fBhpyt"
      },
      "outputs": [],
      "source": [
        "\n",
        "## Get features\n",
        "df3 = usadf.where(col(\"Description\").isNotNull()).withColumn(\"publishedAt\",F.to_timestamp(col(\"publishedAt\"))).\\\n",
        "withColumn(\"trending_date\",F.to_timestamp(col(\"trending_date\"))).\\\n",
        "withColumn(\"Date Diff\",F.datediff(col(\"trending_date\"),col(\"publishedAt\"))).\\\n",
        "groupby(col(\"video_id\")).agg(F.min(\"Date Diff\"),F.count(\"Date Diff\")).\\\n",
        "withColumnRenamed(\"min(Date Diff)\",\"Days to Trend\").\\\n",
        "withColumnRenamed(\"count(Date Diff)\",\"Trending Duration\")\n",
        "\n",
        "## Get count\n",
        "out = df3.groupby(\"Days to Trend\",\"Trending Duration\").count().collect()\n",
        "\n",
        "## Convert to heatmap array\n",
        "out1 = np.array([(item['Days to Trend'], item['Trending Duration'], item['count']) for item in out])\n",
        "out2 = np.zeros((np.max(out1[:,0])+1, np.max(out1[:,1]) + 1)) * np.nan\n",
        "out2[out1[:,0],out1[:,1]] = out1[:,2]\n",
        "\n",
        "## Plot data\n",
        "plt.figure(figsize=(10,6))\n",
        "ax = sns.heatmap(out2.T, cmap='viridis_r')\n",
        "ax.invert_yaxis()\n",
        "plt.title(\"Correlation between Days to Publish v/s Trend and Trending Duration\")\n",
        "plt.xlabel(\"Days to trend\")\n",
        "plt.ylabel(\"Trending Duration\")\n",
        "plt.show()"
      ]
    },
    {
      "cell_type": "markdown",
      "metadata": {
        "id": "4k-T7f0JChyv"
      },
      "source": [
        "Observations:\n",
        "\n",
        "1. The less days needed for a video from publish to trend, the longer the trend duration.\n",
        "\n",
        "2. Videos that can get into trending within 3 days will have higher probability to be trending for longer time."
      ]
    },
    {
      "cell_type": "markdown",
      "source": [
        "#### 3. Correlation between various trending video metrics: [Spark Dataframes]\n",
        " ##### d) Does the video trending in one country will trend in other countries too? (for 3 countries)\n",
        " 1) get the distinct trending video per country.\n",
        " \n",
        " 2) Count the number of trending video matching between US vs GB and US vs IN\n",
        " \n",
        " 3) Derive the analogy."
      ],
      "metadata": {
        "id": "3XhgszYV4ckk"
      }
    },
    {
      "cell_type": "code",
      "source": [
        "usDistinctdf = uscdf.select(\"video_id\").distinct()\n",
        "gbDistinctdf = gbcdf.select(\"video_id\").distinct().withColumnRenamed(\"video_id\",\"gbvideo_id\")\n",
        "inDistinctdf = incdf.select(\"video_id\").distinct().withColumnRenamed(\"video_id\",\"invideo_id\")\n",
        "\n",
        "usGbMatchdf = usDistinctdf.join(gbDistinctdf, usDistinctdf.video_id == gbDistinctdf.gbvideo_id).drop(\"gbvideo_id\")\n",
        "usInMatchdf = usDistinctdf.join(inDistinctdf, usDistinctdf.video_id == inDistinctdf.invideo_id).drop(\"invideo_id\")\n",
        "gbInMatchdf = gbDistinctdf.join(inDistinctdf, gbDistinctdf.gbvideo_id == inDistinctdf.invideo_id).drop(\"gbvideo_id\")\n",
        "all3Matchdf = usGbMatchdf.join(inDistinctdf, usGbMatchdf.video_id == inDistinctdf.invideo_id).drop(\"invideo_id\")\n",
        "\n",
        "usCount = usDistinctdf.count()\n",
        "gbCount = gbDistinctdf.count()\n",
        "inCount = inDistinctdf.count()\n",
        "usGbCount = usGbMatchdf.count()\n",
        "usInCount = usInMatchdf.count()\n",
        "gbInCount = gbInMatchdf.count()\n",
        "allCount = all3Matchdf.count()\n",
        "\n",
        "fig, ax = plt.subplots(2, 2, figsize=(18, 18), subplot_kw=dict(aspect=\"equal\"))\n",
        "\n",
        "allCountrydata = [allCount, usCount-allCount, gbCount-allCount, inCount-allCount]\n",
        "ingredients = [\"COMMON\", \"USA ONLY\", \"GRATE BRITAIN ONLY\", \"INDIA ONLY\"]\n",
        "\n",
        "def func(pct, allvals):\n",
        "    absolute = int(np.round(pct/100.*np.sum(allvals)))\n",
        "    return \"{:.1f}%\\n({:d} Count)\".format(pct, absolute)\n",
        "\n",
        "wedges, texts, autotexts = ax[0][0].pie(allCountrydata, autopct=lambda pct: func(pct, allCountrydata), textprops=dict(color=\"w\"))\n",
        "ax[0][0].legend(wedges, ingredients, title=\"COUNTRY\", loc=\"center\", bbox_to_anchor=(1, 0.8, 0, 0))\n",
        "ax[0][0].set_title(\"All Country Trending Video shares\", size=18, weight=\"bold\")\n",
        "plt.setp(autotexts, size=14, weight=\"bold\")\n",
        "\n",
        "US_GB_data = [usGbCount, usCount-usGbCount, gbCount-usGbCount]\n",
        "ingredients1 = [\"COMMON\", \"USA ONLY\", \"GRATE BRITAIN ONLY\"]\n",
        "\n",
        "wedges, texts, autotexts1 = ax[0][1].pie(US_GB_data, autopct=lambda pct: func(pct, US_GB_data), textprops=dict(color=\"w\"))\n",
        "ax[0][1].legend(wedges, ingredients1, title=\"COUNTRY\", loc=\"center\", bbox_to_anchor=(1, 0.8, 0, 0))\n",
        "ax[0][1].set_title(\"USA & Great Britain Trending Video shares\", size=18, weight=\"bold\")\n",
        "plt.setp(autotexts1, size=14, weight=\"bold\")\n",
        "\n",
        "US_IN_data = [usInCount, usCount-usInCount, inCount-usInCount]\n",
        "ingredients2 = [\"COMMON\", \"USA ONLY\", \"INDIA ONLY\"]\n",
        "\n",
        "wedges, texts, autotexts2 = ax[1][0].pie(US_IN_data, autopct=lambda pct: func(pct, US_IN_data), textprops=dict(color=\"w\"))\n",
        "ax[1][0].legend(wedges, ingredients2, title=\"COUNTRY\", loc=\"center\", bbox_to_anchor=(1, 0.8, 0, 0))\n",
        "ax[1][0].set_title(\"USA & India Trending Video shares\", size=18, weight=\"bold\")\n",
        "plt.setp(autotexts2, size=14, weight=\"bold\")\n",
        "\n",
        "GB_IN_data = [gbInCount, gbCount-gbInCount, inCount-gbInCount]\n",
        "ingredients3 = [\"COMMON\", \"GRATE BRITAIN ONLY\", \"INDIA ONLY\"]\n",
        "\n",
        "wedges, texts, autotexts3 = ax[1][1].pie(GB_IN_data, autopct=lambda pct: func(pct, GB_IN_data), textprops=dict(color=\"w\"))\n",
        "ax[1][1].legend(wedges, ingredients3, title=\"COUNTRY\", loc=\"center\", bbox_to_anchor=(1, 0.8, 0, 0))\n",
        "ax[1][1].set_title(\"Great Britain & India Trending Video shares\", size=18, weight=\"bold\")\n",
        "plt.setp(autotexts3, size=14, weight=\"bold\")\n",
        "\n",
        "plt.show()\n",
        "fig.savefig(\"youTube_Trend.png\",dpi=400, bbox_inches='tight')"
      ],
      "metadata": {
        "id": "JDoHyhaj41Oh"
      },
      "execution_count": null,
      "outputs": []
    },
    {
      "cell_type": "markdown",
      "source": [
        "##### e) Comparison between number of trending videos per category across 3 countries.\n",
        " 1) Count trending video for each category for 3 country \n",
        " \n",
        " 2) Prepare Histogram for category wise country video Count for comparision"
      ],
      "metadata": {
        "id": "WrGzS2Qj48cB"
      }
    },
    {
      "cell_type": "code",
      "source": [
        ""
      ],
      "metadata": {
        "id": "7enswACIO8fp"
      },
      "execution_count": null,
      "outputs": []
    },
    {
      "cell_type": "code",
      "source": [
        "# Histogram for X: Number of likes (Vs) Y: number of Videos per bin/bucket.\n",
        "\n",
        "SMALL_SIZE = 10\n",
        "MEDIUM_SIZE = 16\n",
        "BIGGER_SIZE = 24\n",
        "\n",
        "plt.rc('font', size=BIGGER_SIZE)          # controls default text sizes\n",
        "plt.rc('axes', titlesize=BIGGER_SIZE)     # fontsize of the axes title\n",
        "plt.rc('axes', labelsize=BIGGER_SIZE)    # fontsize of the x and y labels\n",
        "plt.rc('xtick', labelsize=MEDIUM_SIZE)    # fontsize of the tick labels\n",
        "plt.rc('ytick', labelsize=MEDIUM_SIZE)    # fontsize of the tick labels\n",
        "plt.rc('legend', fontsize=MEDIUM_SIZE)    # legend fontsize\n",
        "plt.rc('figure', titlesize=BIGGER_SIZE)  # fontsize of the figure title\n",
        "\n",
        "usDropDupDF = uscdf.dropDuplicates([\"video_id\"])\n",
        "usCategoryDF = usDropDupDF.join(usjdf, usDropDupDF.categoryId == usjdf.id, \"left\").select(\"video_id\", upper(col('category')))\\\n",
        "               .withColumnRenamed(\"upper(category)\", \"category\").na.replace('[NONE]', None).select(\"video_id\", regexp_replace(col(\"category\"), \" \", \"\"))\\\n",
        "               .withColumnRenamed(\"regexp_replace(category,  , )\", \"category\").groupBy(\"category\").agg(count(\"category\").alias(\"count\")).orderBy(\"count\", ascending=False)\n",
        "\n",
        "VDFBAR1_1D = usCategoryDF.select(\"Category\")\n",
        "VDFBAR1_1DOUT = [data[0] for data in VDFBAR1_1D.select('Category').collect()]\n",
        "#print(VDFBAR1_1BOUT)\n",
        "\n",
        "VDFBAR2_1D = usCategoryDF.select(\"count\")\n",
        "VDFBAR2_1DOUT = [data[0] for data in VDFBAR2_1D.select('count').collect()]\n",
        "#print(VDFBAR2_1BOUT)\n",
        "\n",
        "plt.figure(figsize=(15,10))\n",
        "sns.set_style(\"whitegrid\")\n",
        "ax = sns.barplot(y=VDFBAR1_1DOUT,x=VDFBAR2_1DOUT,orient=\"h\")\n",
        "plt.xlabel(\"Number of Videos\")\n",
        "plt.ylabel(\"Categories\")\n",
        "plt.title(\"Trending videos category wise - US\")"
      ],
      "metadata": {
        "id": "gQZvdsjdEEDg"
      },
      "execution_count": null,
      "outputs": []
    },
    {
      "cell_type": "code",
      "source": [
        "# Histogram for X: Number of likes (Vs) Y: number of Videos per bin/bucket.\n",
        "\n",
        "SMALL_SIZE = 10\n",
        "MEDIUM_SIZE = 16\n",
        "BIGGER_SIZE = 24\n",
        "\n",
        "plt.rc('font', size=BIGGER_SIZE)          # controls default text sizes\n",
        "plt.rc('axes', titlesize=BIGGER_SIZE)     # fontsize of the axes title\n",
        "plt.rc('axes', labelsize=BIGGER_SIZE)    # fontsize of the x and y labels\n",
        "plt.rc('xtick', labelsize=MEDIUM_SIZE)    # fontsize of the tick labels\n",
        "plt.rc('ytick', labelsize=MEDIUM_SIZE)    # fontsize of the tick labels\n",
        "plt.rc('legend', fontsize=MEDIUM_SIZE)    # legend fontsize\n",
        "plt.rc('figure', titlesize=BIGGER_SIZE)  # fontsize of the figure title\n",
        "\n",
        "gbDropDupDF = gbcdf.dropDuplicates([\"video_id\"])\n",
        "gbCategoryDF = gbDropDupDF.join(gbjdf, gbDropDupDF.categoryId == gbjdf.id, \"left\").select(\"video_id\", upper(col('category')))\\\n",
        "               .withColumnRenamed(\"upper(category)\", \"category\").na.replace('[NONE]', None).select(\"video_id\", regexp_replace(col(\"category\"), \" \", \"\"))\\\n",
        "               .withColumnRenamed(\"regexp_replace(category,  , )\", \"category\").groupBy(\"category\").agg(count(\"category\").alias(\"count\")).orderBy(\"count\", ascending=False)\n",
        "\n",
        "VDFBAR1_1D = gbCategoryDF.select(\"Category\")\n",
        "VDFBAR1_1DOUT = [data[0] for data in VDFBAR1_1D.select('Category').collect()]\n",
        "#print(VDFBAR1_1BOUT)\n",
        "\n",
        "VDFBAR2_1D = gbCategoryDF.select(\"count\")\n",
        "VDFBAR2_1DOUT = [data[0] for data in VDFBAR2_1D.select('count').collect()]\n",
        "#print(VDFBAR2_1BOUT)\n",
        "\n",
        "plt.figure(figsize=(15,10))\n",
        "sns.set_style(\"whitegrid\")\n",
        "ax = sns.barplot(y=VDFBAR1_1DOUT,x=VDFBAR2_1DOUT,orient=\"h\")\n",
        "plt.xlabel(\"Number of Videos\")\n",
        "plt.ylabel(\"Categories\")\n",
        "plt.title(\"Trending videos category wise - Great Britain\")"
      ],
      "metadata": {
        "id": "XZz93eLmGqta"
      },
      "execution_count": null,
      "outputs": []
    },
    {
      "cell_type": "code",
      "source": [
        "# Histogram for X: Number of likes (Vs) Y: number of Videos per bin/bucket.\n",
        "\n",
        "SMALL_SIZE = 10\n",
        "MEDIUM_SIZE = 16\n",
        "BIGGER_SIZE = 24\n",
        "\n",
        "plt.rc('font', size=BIGGER_SIZE)          # controls default text sizes\n",
        "plt.rc('axes', titlesize=BIGGER_SIZE)     # fontsize of the axes title\n",
        "plt.rc('axes', labelsize=BIGGER_SIZE)    # fontsize of the x and y labels\n",
        "plt.rc('xtick', labelsize=MEDIUM_SIZE)    # fontsize of the tick labels\n",
        "plt.rc('ytick', labelsize=MEDIUM_SIZE)    # fontsize of the tick labels\n",
        "plt.rc('legend', fontsize=MEDIUM_SIZE)    # legend fontsize\n",
        "plt.rc('figure', titlesize=BIGGER_SIZE)  # fontsize of the figure title\n",
        "\n",
        "inDropDupDF = incdf.dropDuplicates([\"video_id\"])\n",
        "inCategoryDF = inDropDupDF.join(injdf, inDropDupDF.categoryId == injdf.id, \"left\").select(\"video_id\", upper(col('category')))\\\n",
        "               .withColumnRenamed(\"upper(category)\", \"category\").na.replace('[NONE]', None).select(\"video_id\", regexp_replace(col(\"category\"), \" \", \"\"))\\\n",
        "               .withColumnRenamed(\"regexp_replace(category,  , )\", \"category\").groupBy(\"category\").agg(count(\"category\").alias(\"count\")).orderBy(\"count\", ascending=False)\n",
        "\n",
        "VDFBAR1_1D = inCategoryDF.select(\"Category\")\n",
        "VDFBAR1_1DOUT = [data[0] for data in VDFBAR1_1D.select('Category').collect()]\n",
        "#print(VDFBAR1_1BOUT)\n",
        "\n",
        "VDFBAR2_1D = inCategoryDF.select(\"count\")\n",
        "VDFBAR2_1DOUT = [data[0] for data in VDFBAR2_1D.select('count').collect()]\n",
        "#print(VDFBAR2_1BOUT)\n",
        "\n",
        "plt.figure(figsize=(15,10))\n",
        "sns.set_style(\"whitegrid\")\n",
        "ax = sns.barplot(y=VDFBAR1_1DOUT,x=VDFBAR2_1DOUT,orient=\"h\")\n",
        "plt.xlabel(\"Number of Videos\")\n",
        "plt.ylabel(\"Categories\")\n",
        "plt.title(\"Trending videos category wise - India\")"
      ],
      "metadata": {
        "id": "WdRhgmeHLm81"
      },
      "execution_count": null,
      "outputs": []
    },
    {
      "cell_type": "code",
      "execution_count": null,
      "metadata": {
        "id": "5CMSVBAH4NjL"
      },
      "outputs": [],
      "source": [
        "# Section 4  - Starts Here"
      ]
    },
    {
      "cell_type": "code",
      "execution_count": null,
      "metadata": {
        "id": "y6GJpfDF4anh"
      },
      "outputs": [],
      "source": [
        "DF1 = usadf.select(split(usadf.tags, '[|]').alias(\"Tag_List\"), col(\"tags\"), col(\"video_id\"),col(\"title\"))\n",
        "\n",
        "#VDF2.show(10)\n",
        "\n",
        "##Make NULL as 0\n",
        "\n",
        "DF2 = DF1.withColumn(\"NumberofTags\", size(col(\"Tag_List\")))\n",
        "DF3 = DF2.withColumn(\"NumberofValidTags\", when(DF2[\"NumberofTags\"] == -1, 0).otherwise(DF2[\"NumberofTags\"]))\n",
        "DF4 = DF3.select(\"video_id\", \"title\", \"tags\", \"NumberofValidTags\")\n",
        "DF5 = DF4.agg(avg(col(\"NumberofValidTags\")))\n",
        "DF4.show(truncate=False)\n",
        "#DF5.show()\n",
        "\n",
        "print(\"Average Number of Tags\")\n",
        "DFHISTTAGS = DF4.select(\"NumberofValidTags\")\n",
        "DFHISTTAGSOUT = [data[0] for data in DFHISTTAGS.select('NumberofValidTags').collect()]\n",
        "#print(VDFHIST1OUT)"
      ]
    },
    {
      "cell_type": "code",
      "execution_count": null,
      "metadata": {
        "id": "mcknz_DUm2W6"
      },
      "outputs": [],
      "source": [
        "#Histogram Tags Length\n",
        "from matplotlib import pyplot as plt\n",
        "import numpy as np\n",
        "fig,ax = plt.subplots(1,1)\n",
        "ax.hist(DFHISTTAGSOUT, bins = [0,10,20,30,40,50,60,70,80,90,100])\n",
        "ax.set_title(\"Histogram of Number of Tags\")\n",
        "ax.set_xticks([0,10,20,30,40,50,60,70,80,90,100])\n",
        "ax.set_xlabel('Number of Tags')\n",
        "ax.set_ylabel('Number of Videos')\n",
        "plt.show()"
      ]
    },
    {
      "cell_type": "code",
      "execution_count": null,
      "metadata": {
        "id": "7m4ce2BKm76L"
      },
      "outputs": [],
      "source": [
        "#Average Title Number of Words\n",
        "\n",
        "DF102 = usadf.select(split(usadf.title, ' ').alias(\"title_List\"), col(\"video_id\"),col(\"title\"))\n",
        "#DF101.show(10)\n",
        "\n",
        "##Make NULL as 0\n",
        "DF103 = DF102.withColumn(\"NumberofWords\", size(col(\"title_List\")))\n",
        "DF104 = DF103.withColumn(\"NumberofValidWords\", when(DF103[\"NumberofWords\"] == -1, 0).otherwise(DF103[\"NumberofWords\"]))\n",
        "DF105 = DF104.select(\"video_id\", \"title\", \"NumberofValidWords\").agg(avg(col(\"NumberofValidWords\")))\n",
        "#VDF104.show(10)\n",
        "DF105.show(10)\n",
        "\n",
        "print(\"Average Number of Words in Title\")\n",
        "DFHISTTITLEWORDS = DF104.select(\"NumberofValidWords\")\n",
        "DFHISTTITLEWORDSOUT = [data[0] for data in DFHISTTITLEWORDS.select('NumberofValidWords').collect()]\n",
        "#print(DFHISTTITLEWORDSOUT)"
      ]
    },
    {
      "cell_type": "code",
      "execution_count": null,
      "metadata": {
        "id": "imMU8MeDnCd3"
      },
      "outputs": [],
      "source": [
        "#When NULL Values are made 0\n",
        "from matplotlib import pyplot as plt\n",
        "import numpy as np\n",
        "fig,ax = plt.subplots(1,1)\n",
        "ax.hist(DFHISTTITLEWORDSOUT, bins = [0,5,10,15,20,25,30])\n",
        "ax.set_title(\"Histogram of Number of Words in Title\")\n",
        "ax.set_xticks([0,5,10,15,20,25,30])\n",
        "ax.set_xlabel('Number of Words in Title')\n",
        "ax.set_ylabel('Number of Videos')\n",
        "plt.show()"
      ]
    },
    {
      "cell_type": "code",
      "execution_count": null,
      "metadata": {
        "id": "mjXVWxagnGl2"
      },
      "outputs": [],
      "source": [
        "#TOP 50 Tags (sentences) in General\n",
        "\n",
        "VDF202 = usadf.filter(col(\"tags\").isNotNull()).select(split(usadf.tags, '[|]').alias(\"tags_list\"), col(\"video_id\"),col(\"title\"))\n",
        "VDF203 = VDF202.select(\"video_id\", \"title\", explode(VDF202.tags_list).alias(\"tags\")).filter(col(\"tags\") != \"[None]\")\n",
        "VDF204 = VDF203.groupby(\"tags\").agg(count(\"tags\")).withColumnRenamed(\"tags\", \"TOP 50 Tags\").withColumnRenamed(\"count(tags)\", \"Number of Apperances\").sort(col(\"Number of Apperances\").desc())\n",
        "VDF205 = VDF204.select(\"TOP 50 Tags\", \"Number of Apperances\").limit(50)\n",
        "VDF205.show(50)"
      ]
    },
    {
      "cell_type": "code",
      "execution_count": null,
      "metadata": {
        "id": "NoGbypxFnQaH"
      },
      "outputs": [],
      "source": [
        "#TOP 50 Tags (sentences) > 1M Views \n",
        "\n",
        "VDF302 = usadf.filter(col(\"tags\").isNotNull() & col(\"view_count\").isNotNull()).select(split(usadf.tags, '[|]').alias(\"tags_list\"), col(\"video_id\"),col(\"title\"), col(\"view_count\")).filter(col(\"view_count\") > 1000000)\n",
        "VDF303 = VDF302.select(\"video_id\", \"title\", explode(VDF302.tags_list).alias(\"tags\")).filter(col(\"tags\") != \"[None]\")\n",
        "VDF304 = VDF303.groupby(\"tags\").agg(count(\"tags\")).withColumnRenamed(\"tags\", \"TOP 50 Tags with More than 1M Views\").withColumnRenamed(\"count(tags)\", \"Number of Apperances\").sort(col(\"Number of Apperances\").desc())\n",
        "VDF305 = VDF304.select(\"TOP 50 Tags with More than 1M Views\", \"Number of Apperances\").limit(50)\n",
        "VDF305.show(50)"
      ]
    },
    {
      "cell_type": "code",
      "execution_count": null,
      "metadata": {
        "id": "cShdC_yvnexn"
      },
      "outputs": [],
      "source": [
        "#TOP 50 Words in Tags in Videos > 1M Views \n",
        "\n",
        "VDF402 = usadf.filter(col(\"tags\").isNotNull() & col(\"view_count\").isNotNull()).select(split(usadf.tags, '[| ]').alias(\"tags_list\"), col(\"video_id\"),col(\"title\"), col(\"view_count\")).filter(col(\"view_count\") > 1000000)\n",
        "VDF403 = VDF402.select(\"video_id\", \"title\", explode(VDF402.tags_list).alias(\"tags\")).filter(col(\"tags\") != \"[None]\")\n",
        "VDF404 = VDF403.groupby(\"tags\").agg(count(\"tags\")).withColumnRenamed(\"tags\", \"TOP 50 Tags Words with More than 1M Views\").withColumnRenamed(\"count(tags)\", \"Number of Apperances\").sort(col(\"Number of Apperances\").desc())\n",
        "VDF405 = VDF404.select(\"TOP 50 Tags Words with More than 1M Views\", \"Number of Apperances\").limit(50)\n",
        "VDF405.show(50)"
      ]
    },
    {
      "cell_type": "code",
      "execution_count": null,
      "metadata": {
        "id": "5PjESf_knrgM"
      },
      "outputs": [],
      "source": [
        "#WordCloud\n",
        "\n",
        "VDF502 = usadf.filter(col(\"tags\").isNotNull() & col(\"view_count\").isNotNull()).filter(col(\"tags\") != \"[None]\").select(split(usadf.tags, '[| ]').alias(\"tags_list\"), col(\"video_id\"),col(\"title\"), col(\"view_count\")).filter(col(\"view_count\") > 1000000)\n",
        "#VDF502.show()\n",
        "VDFWORDOUT = [data[0] for data in VDF502.select('tags_list').collect()]\n",
        "VDF503 = VDF502.select(\"video_id\", \"title\", explode(VDF502.tags_list).alias(\"tags\")).filter(col(\"tags\") != \"[None]\")\n",
        "VDF504 = VDF503.groupby(\"tags\").agg(count(\"tags\")).withColumnRenamed(\"tags\", \"TOP 50 Tags Words with More than 1M Views\").withColumnRenamed(\"count(tags)\", \"Number of Apperances\").sort(col(\"Number of Apperances\").desc())\n",
        "VDF505 = VDF504.select(\"TOP 50 Tags Words with More than 1M Views\", \"Number of Apperances\").limit(50)\n",
        "#VDF505.show(100)\n",
        "#print(VDFWORDOUT)\n",
        "tags_words = ''\n",
        "for val in VDFWORDOUT:\n",
        "  tags_words += \" \".join(val)+\" \" \n",
        "\n",
        "#print(tags_words)\n",
        "from wordcloud import WordCloud, STOPWORDS\n",
        "stopwords = set(STOPWORDS)\n",
        "wordcloud = WordCloud(width = 1500, height = 1000,\n",
        "                background_color ='white',\n",
        "                stopwords = stopwords,collocations = False,\n",
        "                min_font_size = 10).generate(tags_words)\n",
        " \n",
        "# plot the WordCloud image                      \n",
        "plt.figure(figsize = (8, 8), facecolor = None)\n",
        "plt.imshow(wordcloud)\n",
        "plt.axis(\"off\")\n",
        "plt.tight_layout(pad = 0)\n",
        " \n",
        "plt.show()"
      ]
    },
    {
      "cell_type": "markdown",
      "metadata": {
        "id": "Ejs_jjDZn-6A"
      },
      "source": [
        "##### Video Recommendation"
      ]
    },
    {
      "cell_type": "code",
      "execution_count": null,
      "metadata": {
        "id": "mtw2N5eJn2hm"
      },
      "outputs": [],
      "source": [
        "#Check Duplicate Video ID\n",
        "\n",
        "print(\"Total Number of ROWS\", usadf.count())\n",
        "\n",
        "#print(\"Duplicate Video ID List\")\n",
        "\n",
        "#df1=VDF.groupBy(\"video_id\").count().filter(\"count > 1\")\n",
        "#df1.drop('count').sort(\"video_id\").show(400)\n",
        "\n",
        "\n",
        "#print(\"Duplicate Video ID Count\")\n",
        "\n",
        "#df1=VDF.groupBy(\"video_id\").count().filter(\"count > 1\")\n",
        "#df1.sort(\"video_id\").show(400)\n",
        "\n",
        "\n",
        "print(\"Total Number of ROWS After removing duplicates\", usadf.dropDuplicates([\"video_id\"]).dropDuplicates([\"title\"]).count())\n",
        "\n",
        "print(\"Category of Videos in DataSet\")\n",
        "\n",
        "ytvusjdf.show(100)\n",
        "\n",
        "#Drop Duplicate Video ID and Titles\n",
        "\n",
        "VDFdropDupDF = usadf.dropDuplicates([\"video_id\"]).dropDuplicates([\"title\"])\n",
        "\n",
        "#Get Tags ordered\n",
        "\n",
        "df1000 = VDFdropDupDF.join(ytvusjdf, VDFdropDupDF.categoryId == ytvusjdf.id, \"left\").select(\"video_id\", upper(col('category')), upper(col('tags')), \"title\", \"likes\", \"dislikes\").withColumnRenamed(\"upper(tags)\", \"tags\").withColumnRenamed(\"upper(category)\", \"category\").na.replace('[NONE]', None)\n",
        "df1001_0 = df1000.select(\"video_id\", \"title\", \"likes\", \"dislikes\", regexp_replace(col(\"category\"), \" \", \"\"), regexp_replace(col(\"tags\"), \" \", \"\")).withColumnRenamed(\"regexp_replace(category,  , )\", \"category\").withColumnRenamed(\"regexp_replace(tags,  , )\", \"tags\")\n",
        "df1001 = df1001_0.select(\"video_id\", \"category\", \"title\", \"likes\", \"dislikes\", split(df1001_0.tags, '[|]', limit=4).alias(\"tags_list\"))\n",
        "df1002 = df1001.select(\"video_id\", \"category\", \"title\", \"tags_list\", \"likes\", \"dislikes\", split(df1001.category, '[|]').alias(\"category_list\"))\n",
        "df1003 = df1002.select(\"video_id\",\"category_list\",\"title\",\"tags_list\", \"likes\", \"dislikes\", concat(df1002.category_list,df1002.tags_list).alias(\"combined\"))\n",
        "df1004 = df1003.withColumn(\"combined\",coalesce(df1003.combined,df1003.category_list)) \n",
        "df1005 = df1004.withColumn(\"Len\", size(\"combined\")).withColumn(\"Percentage Likes\", col(\"likes\")/col(\"dislikes\"))\n",
        "#df1005.show(truncate=False)\n",
        "#df1003.show(truncate=False)\n",
        "\n",
        "\n",
        "#Getting Only Videos Which are related\n",
        "\n",
        "#df2000 = df1005.select(\"title\", \"combined\").withColumn(\"combined_small\", array([col(\"combined\")[0], col(\"combined\")[1], col(\"combined\")[2], col(\"combined\")[3]])).limit(10)\n",
        "df2000 = df1005.select(\"title\", array([col(\"combined\")[0], col(\"combined\")[1], col(\"combined\")[2], col(\"combined\")[3]]).alias(\"combined_small\")).limit(1000)\n",
        "df2001 = df2000.withColumn(\"ID\", monotonically_increasing_id())\n",
        "#df2001.show(20,truncate= False)\n",
        "\n",
        "from pyspark.ml.feature import HashingTF, IDF\n",
        "hashingTF = HashingTF(inputCol=\"combined_small\", outputCol=\"tf\")\n",
        "#hashingTF = HashingTF(inputCol=\"combined\", outputCol=\"tf\")\n",
        "tf = hashingTF.transform(df2001)\n",
        "\n",
        "idf = IDF(inputCol=\"tf\", outputCol=\"feature\").fit(tf)\n",
        "tfidf = idf.transform(tf)\n",
        "\n",
        "#Compute L2 Norm\n",
        "\n",
        "from pyspark.ml.feature import Normalizer\n",
        "normalizer = Normalizer(inputCol=\"feature\", outputCol=\"norm\")\n",
        "data = normalizer.transform(tfidf)\n",
        "\n",
        "import pyspark.sql.functions as psf\n",
        "from pyspark.sql.types import DoubleType\n",
        "dot_udf = psf.udf(lambda x,y: float(x.dot(y)), DoubleType())\n",
        "final = data.alias(\"i\").join(data.alias(\"j\"), psf.col(\"i.ID\") < psf.col(\"j.ID\"))\\\n",
        "    .select(psf.col(\"i.ID\").alias(\"i\"), psf.col(\"j.ID\").alias(\"j\"), dot_udf(\"i.norm\", \"j.norm\").alias(\"dot\"))\\\n",
        "    .where(col('dot') != 0).sort(\"i\", \"j\")\n",
        "#final.show()\n",
        "\n",
        "\n",
        "final_video = final.select(\"j\", \"i\", \"dot\")\n",
        "final_video2 = final.union(final_video)\n",
        "final_video3 = final_video2.sort(\"i\", \"dot\", ascending=False)\n",
        "#final3.show()\n",
        "\n",
        "\n",
        "pandasDF = df2001.toPandas()\n",
        "sparkDF=spark.createDataFrame(pandasDF)\n",
        "\n",
        "\n",
        "final_video4 = final_video3.join(sparkDF, sparkDF.ID == final_video3.i).withColumnRenamed(\"title\", \"Search Title\").drop(\"ID\",\"combined_small\")\n",
        "final_video5 = final_video4.join(sparkDF, sparkDF.ID == final_video4.j).withColumnRenamed(\"title\", \"Recommendation Title\").drop(\"ID\")\n",
        "#final_video4.show(100, truncate=False)\n",
        "#final_video5.show(100)\n",
        "\n",
        "pandasDFRecommendation = final_video5.toPandas()\n",
        "#pandasDFRecommendation\n",
        "\n"
      ]
    },
    {
      "cell_type": "code",
      "source": [
        "pd.set_option('display.max_rows', 1000)\n",
        "pd.set_option('display.max_colwidth', None)\n",
        "pandasDF.to_csv(\"/content/drive/MyDrive/video_list.csv\")\n",
        "print(\"List of Videos Taken For Search Operation\\n\\n\")\n",
        "pandasDF.rename(columns = {'combined_small':'Category_Tags'})[['title', 'Category_Tags']]"
      ],
      "metadata": {
        "id": "u9wRNvLliw5Z"
      },
      "execution_count": null,
      "outputs": []
    },
    {
      "cell_type": "code",
      "execution_count": null,
      "metadata": {
        "id": "sPH7CNFnpVSF"
      },
      "outputs": [],
      "source": [
        "import pandas as pd\n",
        "def getRecommendation(video):\n",
        "  print(\"\\n\\n\\n\")\n",
        "  print(\"Search For Recommendation for Video\", video, \"\\n\\n\\n\")\n",
        "  #displaylist = pandasDFRecommendation.loc[pandasDFRecommendation['Search Title'] == video].sort_values(by = 'dot', ascending=False)['Recommendation Title', 'combined_small'].head(10).tolist()\n",
        "  #for i in displaylist:\n",
        "  #  print(i)\n",
        "  #print(displaydf)\n",
        "  return pandasDFRecommendation.loc[pandasDFRecommendation['Search Title'] == video].sort_values(by = 'dot', ascending=True).head(10)\n",
        "\n",
        "dfrecommend = getRecommendation(\"Internet Money – JETSKI ft. Lil Mosey & Lil Tecca (Official Video)\")\n",
        "dfrecommend.reset_index(drop=True, inplace=True)\n",
        "dfrecommend.rename(columns = {'combined_small':'Category_Tags'}, inplace = True)\n",
        "dfrecommend.index = dfrecommend.index + 1\n",
        "dfrecommend[[\"Recommendation Title\", \"Category_Tags\"]]"
      ]
    }
  ],
  "metadata": {
    "colab": {
      "collapsed_sections": [],
      "name": "Project_sol_7_Ramesh_Ronak_Srihari_Animesh_1.ipynb",
      "provenance": []
    },
    "kernelspec": {
      "display_name": "Python 3",
      "language": "python",
      "name": "python3"
    },
    "language_info": {
      "codemirror_mode": {
        "name": "ipython",
        "version": 3
      },
      "file_extension": ".py",
      "mimetype": "text/x-python",
      "name": "python",
      "nbconvert_exporter": "python",
      "pygments_lexer": "ipython3",
      "version": "3.8.5"
    }
  },
  "nbformat": 4,
  "nbformat_minor": 0
}